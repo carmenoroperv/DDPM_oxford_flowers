{
 "cells": [
  {
   "cell_type": "code",
   "execution_count": null,
   "id": "7e444fa0-280b-4e32-9a58-fe68eedb24c0",
   "metadata": {},
   "outputs": [],
   "source": [
    "!git config --global credential.helper store"
   ]
  },
  {
   "cell_type": "code",
   "execution_count": null,
   "id": "2a1f4cee-ab24-4160-baa8-91d0d7e0a6f0",
   "metadata": {},
   "outputs": [],
   "source": [
    "huggingface_hub.login(token = access_token, add_to_git_credential =  True, new_session = True, write_permission = True)"
   ]
  },
  {
   "cell_type": "code",
   "execution_count": null,
   "id": "512eacd9-9b78-4228-8abd-1075b3332134",
   "metadata": {},
   "outputs": [],
   "source": [
    "import os\n",
    "import scipy.io\n",
    "from glob import glob"
   ]
  },
  {
   "cell_type": "code",
   "execution_count": null,
   "id": "e1e840ac-4473-456c-82d7-02458812229f",
   "metadata": {},
   "outputs": [],
   "source": [
    "mat = scipy.io.loadmat('imagelabels.mat')\n",
    "print(mat[\"labels\"])\n",
    "labels = []\n",
    "for i in mat[\"labels\"][0]:\n",
    "  labels.append(i)\n",
    "print(len(labels))"
   ]
  },
  {
   "cell_type": "code",
   "execution_count": null,
   "id": "e42d0822-c3c1-4e55-8c37-dbc2953d7b59",
   "metadata": {},
   "outputs": [],
   "source": [
    "from os import listdir\n",
    "from os.path import isfile, join\n",
    "onlyfiles = [f for f in listdir(\"oxford_flowers\") if isfile(join(\"oxford_flowers\", f))]\n",
    "print(onlyfiles[0])\n",
    "len(onlyfiles)"
   ]
  },
  {
   "cell_type": "code",
   "execution_count": null,
   "id": "ee6a8d6c-0760-438a-bd3a-301f4a3d357e",
   "metadata": {},
   "outputs": [],
   "source": [
    "list_of_image_numbers_minus1 = [int(filename.split(\"_\")[1].split(\".\")[0].lstrip(\"0\"))-1 for filename in onlyfiles]\n",
    "original_filenames = onlyfiles\n",
    "original_filenames.sort()\n",
    "list_of_image_numbers_minus1.sort()\n",
    "print(list_of_image_numbers_minus1[0:6])\n",
    "print(original_filenames[1])\n",
    "print(original_filenames[0:6])"
   ]
  },
  {
   "cell_type": "code",
   "execution_count": null,
   "id": "47f6beba-6722-413a-b061-ef39399f0341",
   "metadata": {},
   "outputs": [],
   "source": [
    "labels_filt_images = [labels[i] for i in list_of_image_numbers_minus1]\n",
    "labels_filt_images[0:6]"
   ]
  },
  {
   "cell_type": "code",
   "execution_count": null,
   "id": "1c498b13-de2a-4a4a-a36e-51e47502afc7",
   "metadata": {},
   "outputs": [],
   "source": [
    "for i in range(len(labels_filt_images)):\n",
    "  label = labels_filt_images[i]\n",
    "  original_filename = original_filenames[i]\n",
    "  if not os.path.exists(\"oxford_flowers/\" + str(label)):\n",
    "    os.makedirs(\"oxford_flowers/\" + str(label))\n",
    "  os.rename(\"oxford_flowers/\" + str(original_filename), \"oxford_flowers/\" + str(label) + \"/\" + str(original_filename))\n"
   ]
  },
  {
   "cell_type": "code",
   "execution_count": null,
   "id": "265d7495-89db-48f2-bd42-04732d7b0f53",
   "metadata": {},
   "outputs": [],
   "source": [
    "subfolders = [x.split(\"/\")[2] for x in glob(\"./oxford_flowers/*/\", recursive = True)]\n",
    "print(subfolders)\n",
    "print(f\"Number of classes: {len(subfolders)}\")\n",
    "for i in subfolders:\n",
    "  n_images = [f for f in listdir(\"oxford_flowers/\" + str(i)) if isfile(join(\"oxford_flowers/\" + str(i), f))]\n",
    "  print(f\"Name of subfolder: {i}; Number of images: {len(n_images)}\")"
   ]
  },
  {
   "cell_type": "code",
   "execution_count": null,
   "id": "2a883aa1-d6a0-4252-8011-bc55364f3b55",
   "metadata": {},
   "outputs": [],
   "source": [
    "# test\n",
    "dataset = load_dataset(\"imagefolder\", data_dir=\"./oxford_flowers\")\n",
    "print(dataset)\n",
    "\n",
    "fig, axs = plt.subplots(1, 4, figsize=(16, 4))\n",
    "for i, image in enumerate(dataset[\"train\"][55:59][\"image\"]):\n",
    "    axs[i].imshow(image)\n",
    "    axs[i].set_axis_off()\n",
    "fig.show()\n",
    "\n",
    "dataset[\"train\"][55:59][\"label\"]"
   ]
  },
  {
   "cell_type": "code",
   "execution_count": null,
   "id": "8c10641d-e1b2-43cf-a0fa-2b2b7f13c9a7",
   "metadata": {},
   "outputs": [],
   "source": [
    "# push dataset\n",
    "dataset.push_to_hub(\"coroperv/oxford-flowers\")"
   ]
  }
 ],
 "metadata": {
  "kernelspec": {
   "display_name": "Python 3 (ipykernel)",
   "language": "python",
   "name": "python3"
  },
  "language_info": {
   "codemirror_mode": {
    "name": "ipython",
    "version": 3
   },
   "file_extension": ".py",
   "mimetype": "text/x-python",
   "name": "python",
   "nbconvert_exporter": "python",
   "pygments_lexer": "ipython3",
   "version": "3.12.1"
  }
 },
 "nbformat": 4,
 "nbformat_minor": 5
}
