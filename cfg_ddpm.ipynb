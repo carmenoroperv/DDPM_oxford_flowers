{
 "cells": [
  {
   "cell_type": "code",
   "execution_count": 1,
   "id": "825866e1-8dbf-422b-a878-120714a8a681",
   "metadata": {
    "colab": {
     "base_uri": "https://localhost:8080/",
     "height": 70
    },
    "id": "825866e1-8dbf-422b-a878-120714a8a681",
    "outputId": "3b464749-d485-4717-87ef-ef36983c5bba"
   },
   "outputs": [
    {
     "data": {
      "application/vnd.google.colaboratory.intrinsic+json": {
       "type": "string"
      },
      "text/plain": [
       "\"\\n\\nThis code is modified from,\\nhttps://github.com/TeaPearce/Conditional_Diffusion_MNIST and https://github.com/cloneofsimo/minDiffusion\\n\\nDiffusion model is based on DDPM,\\nhttps://arxiv.org/abs/2006.11239\\n\\nThe conditioning idea is taken from 'Classifier-Free Diffusion Guidance',\\nhttps://arxiv.org/abs/2207.12598\\n\\n\""
      ]
     },
     "execution_count": 1,
     "metadata": {},
     "output_type": "execute_result"
    }
   ],
   "source": [
    "'''\n",
    "This code is modified from,\n",
    "https://github.com/TeaPearce/Conditional_Diffusion_MNIST, https://github.com/cloneofsimo/minDiffusion and https://github.com/FilippoMB/Diffusion_models_tutorial\n",
    "\n",
    "Diffusion model is based on DDPM,\n",
    "https://arxiv.org/abs/2006.11239\n",
    "\n",
    "The conditioning idea is taken from 'Classifier-Free Diffusion Guidance',\n",
    "https://arxiv.org/abs/2207.12598\n",
    "'''"
   ]
  },
  {
   "cell_type": "code",
   "execution_count": 2,
   "id": "ouZxkQbGqacS",
   "metadata": {
    "colab": {
     "base_uri": "https://localhost:8080/"
    },
    "id": "ouZxkQbGqacS",
    "outputId": "9befcd49-ba9a-43f8-a702-ca6e7e1f2855"
   },
   "outputs": [
    {
     "name": "stdout",
     "output_type": "stream",
     "text": [
      "nvcc: NVIDIA (R) Cuda compiler driver\n",
      "Copyright (c) 2005-2023 NVIDIA Corporation\n",
      "Built on Tue_Aug_15_22:02:13_PDT_2023\n",
      "Cuda compilation tools, release 12.2, V12.2.140\n",
      "Build cuda_12.2.r12.2/compiler.33191640_0\n",
      "GPU 0: Tesla V100-SXM2-16GB (UUID: GPU-775fa3f0-394a-6bea-0af7-32213773efb4)\n"
     ]
    }
   ],
   "source": [
    "!/usr/local/cuda/bin/nvcc --version\n",
    "!nvidia-smi -L"
   ]
  },
  {
   "cell_type": "code",
   "execution_count": 3,
   "id": "8e5A5Y_mt0RW",
   "metadata": {
    "colab": {
     "base_uri": "https://localhost:8080/"
    },
    "id": "8e5A5Y_mt0RW",
    "outputId": "83bd8675-65ce-4c61-8221-368695df9e15"
   },
   "outputs": [
    {
     "name": "stdout",
     "output_type": "stream",
     "text": [
      "Collecting datasets\n",
      "  Downloading datasets-2.18.0-py3-none-any.whl (510 kB)\n",
      "\u001b[2K     \u001b[90m━━━━━━━━━━━━━━━━━━━━━━━━━━━━━━━━━━━━━━━━\u001b[0m \u001b[32m510.5/510.5 kB\u001b[0m \u001b[31m8.2 MB/s\u001b[0m eta \u001b[36m0:00:00\u001b[0m\n",
      "\u001b[?25hRequirement already satisfied: filelock in /usr/local/lib/python3.10/dist-packages (from datasets) (3.13.1)\n",
      "Requirement already satisfied: numpy>=1.17 in /usr/local/lib/python3.10/dist-packages (from datasets) (1.25.2)\n",
      "Requirement already satisfied: pyarrow>=12.0.0 in /usr/local/lib/python3.10/dist-packages (from datasets) (14.0.2)\n",
      "Requirement already satisfied: pyarrow-hotfix in /usr/local/lib/python3.10/dist-packages (from datasets) (0.6)\n",
      "Collecting dill<0.3.9,>=0.3.0 (from datasets)\n",
      "  Downloading dill-0.3.8-py3-none-any.whl (116 kB)\n",
      "\u001b[2K     \u001b[90m━━━━━━━━━━━━━━━━━━━━━━━━━━━━━━━━━━━━━━━━\u001b[0m \u001b[32m116.3/116.3 kB\u001b[0m \u001b[31m9.7 MB/s\u001b[0m eta \u001b[36m0:00:00\u001b[0m\n",
      "\u001b[?25hRequirement already satisfied: pandas in /usr/local/lib/python3.10/dist-packages (from datasets) (1.5.3)\n",
      "Requirement already satisfied: requests>=2.19.0 in /usr/local/lib/python3.10/dist-packages (from datasets) (2.31.0)\n",
      "Requirement already satisfied: tqdm>=4.62.1 in /usr/local/lib/python3.10/dist-packages (from datasets) (4.66.2)\n",
      "Requirement already satisfied: xxhash in /usr/local/lib/python3.10/dist-packages (from datasets) (3.4.1)\n",
      "Collecting multiprocess (from datasets)\n",
      "  Downloading multiprocess-0.70.16-py310-none-any.whl (134 kB)\n",
      "\u001b[2K     \u001b[90m━━━━━━━━━━━━━━━━━━━━━━━━━━━━━━━━━━━━━━━━\u001b[0m \u001b[32m134.8/134.8 kB\u001b[0m \u001b[31m11.0 MB/s\u001b[0m eta \u001b[36m0:00:00\u001b[0m\n",
      "\u001b[?25hRequirement already satisfied: fsspec[http]<=2024.2.0,>=2023.1.0 in /usr/local/lib/python3.10/dist-packages (from datasets) (2023.6.0)\n",
      "Requirement already satisfied: aiohttp in /usr/local/lib/python3.10/dist-packages (from datasets) (3.9.3)\n",
      "Requirement already satisfied: huggingface-hub>=0.19.4 in /usr/local/lib/python3.10/dist-packages (from datasets) (0.20.3)\n",
      "Requirement already satisfied: packaging in /usr/local/lib/python3.10/dist-packages (from datasets) (23.2)\n",
      "Requirement already satisfied: pyyaml>=5.1 in /usr/local/lib/python3.10/dist-packages (from datasets) (6.0.1)\n",
      "Requirement already satisfied: aiosignal>=1.1.2 in /usr/local/lib/python3.10/dist-packages (from aiohttp->datasets) (1.3.1)\n",
      "Requirement already satisfied: attrs>=17.3.0 in /usr/local/lib/python3.10/dist-packages (from aiohttp->datasets) (23.2.0)\n",
      "Requirement already satisfied: frozenlist>=1.1.1 in /usr/local/lib/python3.10/dist-packages (from aiohttp->datasets) (1.4.1)\n",
      "Requirement already satisfied: multidict<7.0,>=4.5 in /usr/local/lib/python3.10/dist-packages (from aiohttp->datasets) (6.0.5)\n",
      "Requirement already satisfied: yarl<2.0,>=1.0 in /usr/local/lib/python3.10/dist-packages (from aiohttp->datasets) (1.9.4)\n",
      "Requirement already satisfied: async-timeout<5.0,>=4.0 in /usr/local/lib/python3.10/dist-packages (from aiohttp->datasets) (4.0.3)\n",
      "Requirement already satisfied: typing-extensions>=3.7.4.3 in /usr/local/lib/python3.10/dist-packages (from huggingface-hub>=0.19.4->datasets) (4.10.0)\n",
      "Requirement already satisfied: charset-normalizer<4,>=2 in /usr/local/lib/python3.10/dist-packages (from requests>=2.19.0->datasets) (3.3.2)\n",
      "Requirement already satisfied: idna<4,>=2.5 in /usr/local/lib/python3.10/dist-packages (from requests>=2.19.0->datasets) (3.6)\n",
      "Requirement already satisfied: urllib3<3,>=1.21.1 in /usr/local/lib/python3.10/dist-packages (from requests>=2.19.0->datasets) (2.0.7)\n",
      "Requirement already satisfied: certifi>=2017.4.17 in /usr/local/lib/python3.10/dist-packages (from requests>=2.19.0->datasets) (2024.2.2)\n",
      "Requirement already satisfied: python-dateutil>=2.8.1 in /usr/local/lib/python3.10/dist-packages (from pandas->datasets) (2.8.2)\n",
      "Requirement already satisfied: pytz>=2020.1 in /usr/local/lib/python3.10/dist-packages (from pandas->datasets) (2023.4)\n",
      "Requirement already satisfied: six>=1.5 in /usr/local/lib/python3.10/dist-packages (from python-dateutil>=2.8.1->pandas->datasets) (1.16.0)\n",
      "Installing collected packages: dill, multiprocess, datasets\n",
      "Successfully installed datasets-2.18.0 dill-0.3.8 multiprocess-0.70.16\n",
      "Collecting git+https://github.com/chaofengc/IQA-PyTorch.git\n",
      "  Cloning https://github.com/chaofengc/IQA-PyTorch.git to /tmp/pip-req-build-trdeiyge\n",
      "  Running command git clone --filter=blob:none --quiet https://github.com/chaofengc/IQA-PyTorch.git /tmp/pip-req-build-trdeiyge\n",
      "  Resolved https://github.com/chaofengc/IQA-PyTorch.git to commit c85e72e2f0719b5de1dca414838f1d244195edd2\n",
      "  Preparing metadata (setup.py) ... \u001b[?25l\u001b[?25hdone\n",
      "Collecting addict (from pyiqa==0.1.10)\n",
      "  Downloading addict-2.4.0-py3-none-any.whl (3.8 kB)\n",
      "Requirement already satisfied: future in /usr/local/lib/python3.10/dist-packages (from pyiqa==0.1.10) (0.18.3)\n",
      "Collecting lmdb (from pyiqa==0.1.10)\n",
      "  Downloading lmdb-1.4.1-cp310-cp310-manylinux_2_17_x86_64.manylinux2014_x86_64.whl (299 kB)\n",
      "\u001b[2K     \u001b[90m━━━━━━━━━━━━━━━━━━━━━━━━━━━━━━━━━━━━━━━━\u001b[0m \u001b[32m299.2/299.2 kB\u001b[0m \u001b[31m8.2 MB/s\u001b[0m eta \u001b[36m0:00:00\u001b[0m\n",
      "\u001b[?25hRequirement already satisfied: numpy in /usr/local/lib/python3.10/dist-packages (from pyiqa==0.1.10) (1.25.2)\n",
      "Requirement already satisfied: opencv-python in /usr/local/lib/python3.10/dist-packages (from pyiqa==0.1.10) (4.8.0.76)\n",
      "Requirement already satisfied: pandas in /usr/local/lib/python3.10/dist-packages (from pyiqa==0.1.10) (1.5.3)\n",
      "Requirement already satisfied: Pillow in /usr/local/lib/python3.10/dist-packages (from pyiqa==0.1.10) (9.4.0)\n",
      "Requirement already satisfied: pyyaml in /usr/local/lib/python3.10/dist-packages (from pyiqa==0.1.10) (6.0.1)\n",
      "Requirement already satisfied: requests in /usr/local/lib/python3.10/dist-packages (from pyiqa==0.1.10) (2.31.0)\n",
      "Requirement already satisfied: scikit-image in /usr/local/lib/python3.10/dist-packages (from pyiqa==0.1.10) (0.19.3)\n",
      "Requirement already satisfied: scipy in /usr/local/lib/python3.10/dist-packages (from pyiqa==0.1.10) (1.11.4)\n",
      "Requirement already satisfied: tensorboard in /usr/local/lib/python3.10/dist-packages (from pyiqa==0.1.10) (2.15.2)\n",
      "Collecting timm (from pyiqa==0.1.10)\n",
      "  Downloading timm-0.9.16-py3-none-any.whl (2.2 MB)\n",
      "\u001b[2K     \u001b[90m━━━━━━━━━━━━━━━━━━━━━━━━━━━━━━━━━━━━━━━━\u001b[0m \u001b[32m2.2/2.2 MB\u001b[0m \u001b[31m24.3 MB/s\u001b[0m eta \u001b[36m0:00:00\u001b[0m\n",
      "\u001b[?25hRequirement already satisfied: torch>=1.12 in /usr/local/lib/python3.10/dist-packages (from pyiqa==0.1.10) (2.1.0+cu121)\n",
      "Requirement already satisfied: torchvision>=0.13 in /usr/local/lib/python3.10/dist-packages (from pyiqa==0.1.10) (0.16.0+cu121)\n",
      "Requirement already satisfied: tqdm in /usr/local/lib/python3.10/dist-packages (from pyiqa==0.1.10) (4.66.2)\n",
      "Collecting yapf (from pyiqa==0.1.10)\n",
      "  Downloading yapf-0.40.2-py3-none-any.whl (254 kB)\n",
      "\u001b[2K     \u001b[90m━━━━━━━━━━━━━━━━━━━━━━━━━━━━━━━━━━━━━━━━\u001b[0m \u001b[32m254.7/254.7 kB\u001b[0m \u001b[31m22.2 MB/s\u001b[0m eta \u001b[36m0:00:00\u001b[0m\n",
      "\u001b[?25hCollecting einops (from pyiqa==0.1.10)\n",
      "  Downloading einops-0.7.0-py3-none-any.whl (44 kB)\n",
      "\u001b[2K     \u001b[90m━━━━━━━━━━━━━━━━━━━━━━━━━━━━━━━━━━━━━━━━\u001b[0m \u001b[32m44.6/44.6 kB\u001b[0m \u001b[31m6.0 MB/s\u001b[0m eta \u001b[36m0:00:00\u001b[0m\n",
      "\u001b[?25hRequirement already satisfied: imgaug in /usr/local/lib/python3.10/dist-packages (from pyiqa==0.1.10) (0.4.0)\n",
      "Collecting openai-clip (from pyiqa==0.1.10)\n",
      "  Downloading openai-clip-1.0.1.tar.gz (1.4 MB)\n",
      "\u001b[2K     \u001b[90m━━━━━━━━━━━━━━━━━━━━━━━━━━━━━━━━━━━━━━━━\u001b[0m \u001b[32m1.4/1.4 MB\u001b[0m \u001b[31m41.3 MB/s\u001b[0m eta \u001b[36m0:00:00\u001b[0m\n",
      "\u001b[?25h  Preparing metadata (setup.py) ... \u001b[?25l\u001b[?25hdone\n",
      "Collecting facexlib (from pyiqa==0.1.10)\n",
      "  Downloading facexlib-0.3.0-py3-none-any.whl (59 kB)\n",
      "\u001b[2K     \u001b[90m━━━━━━━━━━━━━━━━━━━━━━━━━━━━━━━━━━━━━━━━\u001b[0m \u001b[32m59.6/59.6 kB\u001b[0m \u001b[31m8.6 MB/s\u001b[0m eta \u001b[36m0:00:00\u001b[0m\n",
      "\u001b[?25hCollecting transformers==4.37.2 (from pyiqa==0.1.10)\n",
      "  Downloading transformers-4.37.2-py3-none-any.whl (8.4 MB)\n",
      "\u001b[2K     \u001b[90m━━━━━━━━━━━━━━━━━━━━━━━━━━━━━━━━━━━━━━━━\u001b[0m \u001b[32m8.4/8.4 MB\u001b[0m \u001b[31m72.4 MB/s\u001b[0m eta \u001b[36m0:00:00\u001b[0m\n",
      "\u001b[?25hCollecting accelerate (from pyiqa==0.1.10)\n",
      "  Downloading accelerate-0.27.2-py3-none-any.whl (279 kB)\n",
      "\u001b[2K     \u001b[90m━━━━━━━━━━━━━━━━━━━━━━━━━━━━━━━━━━━━━━━━\u001b[0m \u001b[32m280.0/280.0 kB\u001b[0m \u001b[31m35.3 MB/s\u001b[0m eta \u001b[36m0:00:00\u001b[0m\n",
      "\u001b[?25hCollecting icecream (from pyiqa==0.1.10)\n",
      "  Downloading icecream-2.1.3-py2.py3-none-any.whl (8.4 kB)\n",
      "Requirement already satisfied: sentencepiece in /usr/local/lib/python3.10/dist-packages (from pyiqa==0.1.10) (0.1.99)\n",
      "Requirement already satisfied: filelock in /usr/local/lib/python3.10/dist-packages (from transformers==4.37.2->pyiqa==0.1.10) (3.13.1)\n",
      "Requirement already satisfied: huggingface-hub<1.0,>=0.19.3 in /usr/local/lib/python3.10/dist-packages (from transformers==4.37.2->pyiqa==0.1.10) (0.20.3)\n",
      "Requirement already satisfied: packaging>=20.0 in /usr/local/lib/python3.10/dist-packages (from transformers==4.37.2->pyiqa==0.1.10) (23.2)\n",
      "Requirement already satisfied: regex!=2019.12.17 in /usr/local/lib/python3.10/dist-packages (from transformers==4.37.2->pyiqa==0.1.10) (2023.12.25)\n",
      "Requirement already satisfied: tokenizers<0.19,>=0.14 in /usr/local/lib/python3.10/dist-packages (from transformers==4.37.2->pyiqa==0.1.10) (0.15.2)\n",
      "Requirement already satisfied: safetensors>=0.4.1 in /usr/local/lib/python3.10/dist-packages (from transformers==4.37.2->pyiqa==0.1.10) (0.4.2)\n",
      "Requirement already satisfied: typing-extensions in /usr/local/lib/python3.10/dist-packages (from torch>=1.12->pyiqa==0.1.10) (4.10.0)\n",
      "Requirement already satisfied: sympy in /usr/local/lib/python3.10/dist-packages (from torch>=1.12->pyiqa==0.1.10) (1.12)\n",
      "Requirement already satisfied: networkx in /usr/local/lib/python3.10/dist-packages (from torch>=1.12->pyiqa==0.1.10) (3.2.1)\n",
      "Requirement already satisfied: jinja2 in /usr/local/lib/python3.10/dist-packages (from torch>=1.12->pyiqa==0.1.10) (3.1.3)\n",
      "Requirement already satisfied: fsspec in /usr/local/lib/python3.10/dist-packages (from torch>=1.12->pyiqa==0.1.10) (2023.6.0)\n",
      "Requirement already satisfied: triton==2.1.0 in /usr/local/lib/python3.10/dist-packages (from torch>=1.12->pyiqa==0.1.10) (2.1.0)\n",
      "Requirement already satisfied: psutil in /usr/local/lib/python3.10/dist-packages (from accelerate->pyiqa==0.1.10) (5.9.5)\n",
      "Collecting filterpy (from facexlib->pyiqa==0.1.10)\n",
      "  Downloading filterpy-1.4.5.zip (177 kB)\n",
      "\u001b[2K     \u001b[90m━━━━━━━━━━━━━━━━━━━━━━━━━━━━━━━━━━━━━━━━\u001b[0m \u001b[32m178.0/178.0 kB\u001b[0m \u001b[31m26.5 MB/s\u001b[0m eta \u001b[36m0:00:00\u001b[0m\n",
      "\u001b[?25h  Preparing metadata (setup.py) ... \u001b[?25l\u001b[?25hdone\n",
      "Requirement already satisfied: numba in /usr/local/lib/python3.10/dist-packages (from facexlib->pyiqa==0.1.10) (0.58.1)\n",
      "Collecting colorama>=0.3.9 (from icecream->pyiqa==0.1.10)\n",
      "  Downloading colorama-0.4.6-py2.py3-none-any.whl (25 kB)\n",
      "Requirement already satisfied: pygments>=2.2.0 in /usr/local/lib/python3.10/dist-packages (from icecream->pyiqa==0.1.10) (2.16.1)\n",
      "Collecting executing>=0.3.1 (from icecream->pyiqa==0.1.10)\n",
      "  Downloading executing-2.0.1-py2.py3-none-any.whl (24 kB)\n",
      "Collecting asttokens>=2.0.1 (from icecream->pyiqa==0.1.10)\n",
      "  Downloading asttokens-2.4.1-py2.py3-none-any.whl (27 kB)\n",
      "Requirement already satisfied: six in /usr/local/lib/python3.10/dist-packages (from imgaug->pyiqa==0.1.10) (1.16.0)\n",
      "Requirement already satisfied: matplotlib in /usr/local/lib/python3.10/dist-packages (from imgaug->pyiqa==0.1.10) (3.7.1)\n",
      "Requirement already satisfied: imageio in /usr/local/lib/python3.10/dist-packages (from imgaug->pyiqa==0.1.10) (2.31.6)\n",
      "Requirement already satisfied: Shapely in /usr/local/lib/python3.10/dist-packages (from imgaug->pyiqa==0.1.10) (2.0.3)\n",
      "Requirement already satisfied: tifffile>=2019.7.26 in /usr/local/lib/python3.10/dist-packages (from scikit-image->pyiqa==0.1.10) (2024.2.12)\n",
      "Requirement already satisfied: PyWavelets>=1.1.1 in /usr/local/lib/python3.10/dist-packages (from scikit-image->pyiqa==0.1.10) (1.5.0)\n",
      "Collecting ftfy (from openai-clip->pyiqa==0.1.10)\n",
      "  Downloading ftfy-6.1.3-py3-none-any.whl (53 kB)\n",
      "\u001b[2K     \u001b[90m━━━━━━━━━━━━━━━━━━━━━━━━━━━━━━━━━━━━━━━━\u001b[0m \u001b[32m53.4/53.4 kB\u001b[0m \u001b[31m8.2 MB/s\u001b[0m eta \u001b[36m0:00:00\u001b[0m\n",
      "\u001b[?25hRequirement already satisfied: python-dateutil>=2.8.1 in /usr/local/lib/python3.10/dist-packages (from pandas->pyiqa==0.1.10) (2.8.2)\n",
      "Requirement already satisfied: pytz>=2020.1 in /usr/local/lib/python3.10/dist-packages (from pandas->pyiqa==0.1.10) (2023.4)\n",
      "Requirement already satisfied: charset-normalizer<4,>=2 in /usr/local/lib/python3.10/dist-packages (from requests->pyiqa==0.1.10) (3.3.2)\n",
      "Requirement already satisfied: idna<4,>=2.5 in /usr/local/lib/python3.10/dist-packages (from requests->pyiqa==0.1.10) (3.6)\n",
      "Requirement already satisfied: urllib3<3,>=1.21.1 in /usr/local/lib/python3.10/dist-packages (from requests->pyiqa==0.1.10) (2.0.7)\n",
      "Requirement already satisfied: certifi>=2017.4.17 in /usr/local/lib/python3.10/dist-packages (from requests->pyiqa==0.1.10) (2024.2.2)\n",
      "Requirement already satisfied: absl-py>=0.4 in /usr/local/lib/python3.10/dist-packages (from tensorboard->pyiqa==0.1.10) (1.4.0)\n",
      "Requirement already satisfied: grpcio>=1.48.2 in /usr/local/lib/python3.10/dist-packages (from tensorboard->pyiqa==0.1.10) (1.62.0)\n",
      "Requirement already satisfied: google-auth<3,>=1.6.3 in /usr/local/lib/python3.10/dist-packages (from tensorboard->pyiqa==0.1.10) (2.27.0)\n",
      "Requirement already satisfied: google-auth-oauthlib<2,>=0.5 in /usr/local/lib/python3.10/dist-packages (from tensorboard->pyiqa==0.1.10) (1.2.0)\n",
      "Requirement already satisfied: markdown>=2.6.8 in /usr/local/lib/python3.10/dist-packages (from tensorboard->pyiqa==0.1.10) (3.5.2)\n",
      "Requirement already satisfied: protobuf!=4.24.0,>=3.19.6 in /usr/local/lib/python3.10/dist-packages (from tensorboard->pyiqa==0.1.10) (3.20.3)\n",
      "Requirement already satisfied: setuptools>=41.0.0 in /usr/local/lib/python3.10/dist-packages (from tensorboard->pyiqa==0.1.10) (67.7.2)\n",
      "Requirement already satisfied: tensorboard-data-server<0.8.0,>=0.7.0 in /usr/local/lib/python3.10/dist-packages (from tensorboard->pyiqa==0.1.10) (0.7.2)\n",
      "Requirement already satisfied: werkzeug>=1.0.1 in /usr/local/lib/python3.10/dist-packages (from tensorboard->pyiqa==0.1.10) (3.0.1)\n",
      "Requirement already satisfied: importlib-metadata>=6.6.0 in /usr/local/lib/python3.10/dist-packages (from yapf->pyiqa==0.1.10) (7.0.1)\n",
      "Requirement already satisfied: platformdirs>=3.5.1 in /usr/local/lib/python3.10/dist-packages (from yapf->pyiqa==0.1.10) (4.2.0)\n",
      "Requirement already satisfied: tomli>=2.0.1 in /usr/local/lib/python3.10/dist-packages (from yapf->pyiqa==0.1.10) (2.0.1)\n",
      "Requirement already satisfied: cachetools<6.0,>=2.0.0 in /usr/local/lib/python3.10/dist-packages (from google-auth<3,>=1.6.3->tensorboard->pyiqa==0.1.10) (5.3.3)\n",
      "Requirement already satisfied: pyasn1-modules>=0.2.1 in /usr/local/lib/python3.10/dist-packages (from google-auth<3,>=1.6.3->tensorboard->pyiqa==0.1.10) (0.3.0)\n",
      "Requirement already satisfied: rsa<5,>=3.1.4 in /usr/local/lib/python3.10/dist-packages (from google-auth<3,>=1.6.3->tensorboard->pyiqa==0.1.10) (4.9)\n",
      "Requirement already satisfied: requests-oauthlib>=0.7.0 in /usr/local/lib/python3.10/dist-packages (from google-auth-oauthlib<2,>=0.5->tensorboard->pyiqa==0.1.10) (1.3.1)\n",
      "Requirement already satisfied: zipp>=0.5 in /usr/local/lib/python3.10/dist-packages (from importlib-metadata>=6.6.0->yapf->pyiqa==0.1.10) (3.17.0)\n",
      "Requirement already satisfied: MarkupSafe>=2.1.1 in /usr/local/lib/python3.10/dist-packages (from werkzeug>=1.0.1->tensorboard->pyiqa==0.1.10) (2.1.5)\n",
      "Requirement already satisfied: wcwidth<0.3.0,>=0.2.12 in /usr/local/lib/python3.10/dist-packages (from ftfy->openai-clip->pyiqa==0.1.10) (0.2.13)\n",
      "Requirement already satisfied: contourpy>=1.0.1 in /usr/local/lib/python3.10/dist-packages (from matplotlib->imgaug->pyiqa==0.1.10) (1.2.0)\n",
      "Requirement already satisfied: cycler>=0.10 in /usr/local/lib/python3.10/dist-packages (from matplotlib->imgaug->pyiqa==0.1.10) (0.12.1)\n",
      "Requirement already satisfied: fonttools>=4.22.0 in /usr/local/lib/python3.10/dist-packages (from matplotlib->imgaug->pyiqa==0.1.10) (4.49.0)\n",
      "Requirement already satisfied: kiwisolver>=1.0.1 in /usr/local/lib/python3.10/dist-packages (from matplotlib->imgaug->pyiqa==0.1.10) (1.4.5)\n",
      "Requirement already satisfied: pyparsing>=2.3.1 in /usr/local/lib/python3.10/dist-packages (from matplotlib->imgaug->pyiqa==0.1.10) (3.1.1)\n",
      "Requirement already satisfied: llvmlite<0.42,>=0.41.0dev0 in /usr/local/lib/python3.10/dist-packages (from numba->facexlib->pyiqa==0.1.10) (0.41.1)\n",
      "Requirement already satisfied: mpmath>=0.19 in /usr/local/lib/python3.10/dist-packages (from sympy->torch>=1.12->pyiqa==0.1.10) (1.3.0)\n",
      "Requirement already satisfied: pyasn1<0.6.0,>=0.4.6 in /usr/local/lib/python3.10/dist-packages (from pyasn1-modules>=0.2.1->google-auth<3,>=1.6.3->tensorboard->pyiqa==0.1.10) (0.5.1)\n",
      "Requirement already satisfied: oauthlib>=3.0.0 in /usr/local/lib/python3.10/dist-packages (from requests-oauthlib>=0.7.0->google-auth-oauthlib<2,>=0.5->tensorboard->pyiqa==0.1.10) (3.2.2)\n",
      "Building wheels for collected packages: pyiqa, openai-clip, filterpy\n",
      "  Building wheel for pyiqa (setup.py) ... \u001b[?25l\u001b[?25hdone\n",
      "  Created wheel for pyiqa: filename=pyiqa-0.1.10-py3-none-any.whl size=242420 sha256=74e67b79adb977c4cfb57c4513ea4d8e71c88cd644a399c4cdf2c14ff5f1e607\n",
      "  Stored in directory: /tmp/pip-ephem-wheel-cache-ik9wdtna/wheels/0f/93/53/8210ba5abeca682c71f33d5252c84a068faf6974701e304c44\n",
      "  Building wheel for openai-clip (setup.py) ... \u001b[?25l\u001b[?25hdone\n",
      "  Created wheel for openai-clip: filename=openai_clip-1.0.1-py3-none-any.whl size=1368605 sha256=319862a7b1e6defa9f66ce8ad781e633005451f00e122180804e9b9a6578ef42\n",
      "  Stored in directory: /root/.cache/pip/wheels/08/77/8e/8d2f862df6bf7fb4e2007062d2cbaeae49862ec7b56d041229\n",
      "  Building wheel for filterpy (setup.py) ... \u001b[?25l\u001b[?25hdone\n",
      "  Created wheel for filterpy: filename=filterpy-1.4.5-py3-none-any.whl size=110458 sha256=e30f0849476c36a18c5678905ac4980d63f4aaf680ebdd1d6d26e718edc51cff\n",
      "  Stored in directory: /root/.cache/pip/wheels/0f/0c/ea/218f266af4ad626897562199fbbcba521b8497303200186102\n",
      "Successfully built pyiqa openai-clip filterpy\n",
      "Installing collected packages: lmdb, addict, ftfy, executing, einops, colorama, asttokens, yapf, openai-clip, icecream, filterpy, accelerate, transformers, timm, facexlib, pyiqa\n",
      "  Attempting uninstall: transformers\n",
      "    Found existing installation: transformers 4.38.2\n",
      "    Uninstalling transformers-4.38.2:\n",
      "      Successfully uninstalled transformers-4.38.2\n",
      "Successfully installed accelerate-0.27.2 addict-2.4.0 asttokens-2.4.1 colorama-0.4.6 einops-0.7.0 executing-2.0.1 facexlib-0.3.0 filterpy-1.4.5 ftfy-6.1.3 icecream-2.1.3 lmdb-1.4.1 openai-clip-1.0.1 pyiqa-0.1.10 timm-0.9.16 transformers-4.37.2 yapf-0.40.2\n",
      "Collecting torchmetrics\n",
      "  Downloading torchmetrics-1.3.1-py3-none-any.whl (840 kB)\n",
      "\u001b[2K     \u001b[90m━━━━━━━━━━━━━━━━━━━━━━━━━━━━━━━━━━━━━━━━\u001b[0m \u001b[32m840.4/840.4 kB\u001b[0m \u001b[31m10.6 MB/s\u001b[0m eta \u001b[36m0:00:00\u001b[0m\n",
      "\u001b[?25hRequirement already satisfied: numpy>1.20.0 in /usr/local/lib/python3.10/dist-packages (from torchmetrics) (1.25.2)\n",
      "Requirement already satisfied: packaging>17.1 in /usr/local/lib/python3.10/dist-packages (from torchmetrics) (23.2)\n",
      "Requirement already satisfied: torch>=1.10.0 in /usr/local/lib/python3.10/dist-packages (from torchmetrics) (2.1.0+cu121)\n",
      "Collecting lightning-utilities>=0.8.0 (from torchmetrics)\n",
      "  Downloading lightning_utilities-0.10.1-py3-none-any.whl (24 kB)\n",
      "Requirement already satisfied: setuptools in /usr/local/lib/python3.10/dist-packages (from lightning-utilities>=0.8.0->torchmetrics) (67.7.2)\n",
      "Requirement already satisfied: typing-extensions in /usr/local/lib/python3.10/dist-packages (from lightning-utilities>=0.8.0->torchmetrics) (4.10.0)\n",
      "Requirement already satisfied: filelock in /usr/local/lib/python3.10/dist-packages (from torch>=1.10.0->torchmetrics) (3.13.1)\n",
      "Requirement already satisfied: sympy in /usr/local/lib/python3.10/dist-packages (from torch>=1.10.0->torchmetrics) (1.12)\n",
      "Requirement already satisfied: networkx in /usr/local/lib/python3.10/dist-packages (from torch>=1.10.0->torchmetrics) (3.2.1)\n",
      "Requirement already satisfied: jinja2 in /usr/local/lib/python3.10/dist-packages (from torch>=1.10.0->torchmetrics) (3.1.3)\n",
      "Requirement already satisfied: fsspec in /usr/local/lib/python3.10/dist-packages (from torch>=1.10.0->torchmetrics) (2023.6.0)\n",
      "Requirement already satisfied: triton==2.1.0 in /usr/local/lib/python3.10/dist-packages (from torch>=1.10.0->torchmetrics) (2.1.0)\n",
      "Requirement already satisfied: MarkupSafe>=2.0 in /usr/local/lib/python3.10/dist-packages (from jinja2->torch>=1.10.0->torchmetrics) (2.1.5)\n",
      "Requirement already satisfied: mpmath>=0.19 in /usr/local/lib/python3.10/dist-packages (from sympy->torch>=1.10.0->torchmetrics) (1.3.0)\n",
      "Installing collected packages: lightning-utilities, torchmetrics\n",
      "Successfully installed lightning-utilities-0.10.1 torchmetrics-1.3.1\n",
      "Collecting torch-fidelity\n",
      "  Downloading torch_fidelity-0.3.0-py3-none-any.whl (37 kB)\n",
      "Requirement already satisfied: numpy in /usr/local/lib/python3.10/dist-packages (from torch-fidelity) (1.25.2)\n",
      "Requirement already satisfied: Pillow in /usr/local/lib/python3.10/dist-packages (from torch-fidelity) (9.4.0)\n",
      "Requirement already satisfied: scipy in /usr/local/lib/python3.10/dist-packages (from torch-fidelity) (1.11.4)\n",
      "Requirement already satisfied: torch in /usr/local/lib/python3.10/dist-packages (from torch-fidelity) (2.1.0+cu121)\n",
      "Requirement already satisfied: torchvision in /usr/local/lib/python3.10/dist-packages (from torch-fidelity) (0.16.0+cu121)\n",
      "Requirement already satisfied: tqdm in /usr/local/lib/python3.10/dist-packages (from torch-fidelity) (4.66.2)\n",
      "Requirement already satisfied: filelock in /usr/local/lib/python3.10/dist-packages (from torch->torch-fidelity) (3.13.1)\n",
      "Requirement already satisfied: typing-extensions in /usr/local/lib/python3.10/dist-packages (from torch->torch-fidelity) (4.10.0)\n",
      "Requirement already satisfied: sympy in /usr/local/lib/python3.10/dist-packages (from torch->torch-fidelity) (1.12)\n",
      "Requirement already satisfied: networkx in /usr/local/lib/python3.10/dist-packages (from torch->torch-fidelity) (3.2.1)\n",
      "Requirement already satisfied: jinja2 in /usr/local/lib/python3.10/dist-packages (from torch->torch-fidelity) (3.1.3)\n",
      "Requirement already satisfied: fsspec in /usr/local/lib/python3.10/dist-packages (from torch->torch-fidelity) (2023.6.0)\n",
      "Requirement already satisfied: triton==2.1.0 in /usr/local/lib/python3.10/dist-packages (from torch->torch-fidelity) (2.1.0)\n",
      "Requirement already satisfied: requests in /usr/local/lib/python3.10/dist-packages (from torchvision->torch-fidelity) (2.31.0)\n",
      "Requirement already satisfied: MarkupSafe>=2.0 in /usr/local/lib/python3.10/dist-packages (from jinja2->torch->torch-fidelity) (2.1.5)\n",
      "Requirement already satisfied: charset-normalizer<4,>=2 in /usr/local/lib/python3.10/dist-packages (from requests->torchvision->torch-fidelity) (3.3.2)\n",
      "Requirement already satisfied: idna<4,>=2.5 in /usr/local/lib/python3.10/dist-packages (from requests->torchvision->torch-fidelity) (3.6)\n",
      "Requirement already satisfied: urllib3<3,>=1.21.1 in /usr/local/lib/python3.10/dist-packages (from requests->torchvision->torch-fidelity) (2.0.7)\n",
      "Requirement already satisfied: certifi>=2017.4.17 in /usr/local/lib/python3.10/dist-packages (from requests->torchvision->torch-fidelity) (2024.2.2)\n",
      "Requirement already satisfied: mpmath>=0.19 in /usr/local/lib/python3.10/dist-packages (from sympy->torch->torch-fidelity) (1.3.0)\n",
      "Installing collected packages: torch-fidelity\n",
      "Successfully installed torch-fidelity-0.3.0\n"
     ]
    }
   ],
   "source": [
    "!pip install datasets\n",
    "!pip install git+https://github.com/chaofengc/IQA-PyTorch.git\n",
    "!pip install torchmetrics\n",
    "!pip install torch-fidelity"
   ]
  },
  {
   "cell_type": "code",
   "execution_count": 4,
   "id": "ffa3474b-61cc-42e3-9928-8c1521729f86",
   "metadata": {
    "id": "ffa3474b-61cc-42e3-9928-8c1521729f86"
   },
   "outputs": [],
   "source": [
    "import os\n",
    "import time\n",
    "from tqdm import tqdm\n",
    "import datetime\n",
    "import math\n",
    "import pyiqa\n",
    "import torch\n",
    "import torch.nn as nn\n",
    "import torch.nn.functional as F\n",
    "from torch.utils.data import DataLoader\n",
    "from datasets import load_dataset\n",
    "from torchvision import models, transforms\n",
    "from torchvision.utils import save_image, make_grid\n",
    "from torchvision.transforms import Compose, ToTensor, Lambda\n",
    "import matplotlib.pyplot as plt\n",
    "from matplotlib.animation import FuncAnimation, PillowWriter\n",
    "import numpy as np\n",
    "from statistics import mean\n",
    "from inspect import isfunction\n",
    "from torch import nn, einsum\n",
    "from einops import rearrange\n",
    "from functools import partial"
   ]
  },
  {
   "cell_type": "markdown",
   "id": "927fdfda-1af4-4239-9cb2-1194a4343506",
   "metadata": {
    "id": "927fdfda-1af4-4239-9cb2-1194a4343506"
   },
   "source": [
    "# Data"
   ]
  },
  {
   "cell_type": "code",
   "execution_count": 5,
   "id": "6fb4d9cd-bfbe-4e6c-9e46-db1fe1ab082d",
   "metadata": {
    "colab": {
     "base_uri": "https://localhost:8080/",
     "height": 307,
     "referenced_widgets": [
      "b191510c73824283ab229a421f3520a4",
      "d88bd127ae1848eda78df62f90f15f9a",
      "ce1b7251afcb4c5285105aaba2b46061",
      "2baa666a1edb433db9fc0c5433af193e",
      "fd13a974a1dc4f4c8d267c7e96521fc5",
      "d4879162a911435ca63f131fdc68eeed",
      "20102fcf0faa4f2f9b2f8c19e6e0d6e2",
      "2eb48b0e50b84729810ae0243fa08ed5",
      "6256698dc3174cd2a12a6515731f44ab",
      "0b3db874964249a29179d244825ac296",
      "a3221dae0f2b48c88a0ee41bdb71e36f",
      "68d78d4b3a674ac0bb8fd263290549e4",
      "bbaec94c97df44949867798c9383b174",
      "f6bec273125a4df6a91d7cff5ab7cab4",
      "9d828d0d2f624efa8978200be36092d2",
      "0324f351c6a64b0288db87a5bee3e124",
      "00cfc6327abe42b788387d42c3b6cf27",
      "0142b3f41a3141af841c3be2bbd31024",
      "983ba6a234134d8cb0578dd756534275",
      "06f1ce93fdf04b338041e67d213c7450",
      "77b16fa0caf5444f822d763329cfad36",
      "da1a54c4728a46c698d3ed37e547880d",
      "b1ac70127b3144159e174ed11ca97682",
      "2d6f70a83263494bb8d1ed8d807b1ede",
      "bde44fabf67148a6b8dd89b489babd91",
      "f2b4fbf8bbe84ca8883398bcab45ff84",
      "b1c2b23d70cc403cae6f52553e473c94",
      "53cab7a2d3cf417cbfc8d4f7045c47e5",
      "4dfcee20946a4390a92ce2e3e2f896e6",
      "c509bf837737477ba5cd68438ce2640b",
      "f501bd7ffe8945d6ac638a0b47c4efa4",
      "21acd0bd813b4b0ab8f570a98435435e",
      "fc1400eed6794c469eece28161797b22"
     ]
    },
    "id": "6fb4d9cd-bfbe-4e6c-9e46-db1fe1ab082d",
    "outputId": "18dc3110-f2ac-47dc-fa07-7cbad9b90097"
   },
   "outputs": [
    {
     "name": "stderr",
     "output_type": "stream",
     "text": [
      "/usr/local/lib/python3.10/dist-packages/huggingface_hub/utils/_token.py:88: UserWarning: \n",
      "The secret `HF_TOKEN` does not exist in your Colab secrets.\n",
      "To authenticate with the Hugging Face Hub, create a token in your settings tab (https://huggingface.co/settings/tokens), set it as secret in your Google Colab and restart your session.\n",
      "You will be able to reuse this secret in all of your notebooks.\n",
      "Please note that authentication is recommended but still optional to access public models or datasets.\n",
      "  warnings.warn(\n"
     ]
    },
    {
     "data": {
      "application/vnd.jupyter.widget-view+json": {
       "model_id": "b191510c73824283ab229a421f3520a4",
       "version_major": 2,
       "version_minor": 0
      },
      "text/plain": [
       "Downloading readme:   0%|          | 0.00/1.64k [00:00<?, ?B/s]"
      ]
     },
     "metadata": {},
     "output_type": "display_data"
    },
    {
     "data": {
      "application/vnd.jupyter.widget-view+json": {
       "model_id": "68d78d4b3a674ac0bb8fd263290549e4",
       "version_major": 2,
       "version_minor": 0
      },
      "text/plain": [
       "Downloading data:   0%|          | 0.00/99.3M [00:00<?, ?B/s]"
      ]
     },
     "metadata": {},
     "output_type": "display_data"
    },
    {
     "data": {
      "application/vnd.jupyter.widget-view+json": {
       "model_id": "b1ac70127b3144159e174ed11ca97682",
       "version_major": 2,
       "version_minor": 0
      },
      "text/plain": [
       "Generating train split:   0%|          | 0/2452 [00:00<?, ? examples/s]"
      ]
     },
     "metadata": {},
     "output_type": "display_data"
    },
    {
     "name": "stdout",
     "output_type": "stream",
     "text": [
      "Dataset({\n",
      "    features: ['image', 'label'],\n",
      "    num_rows: 2452\n",
      "})\n"
     ]
    }
   ],
   "source": [
    "dataset_name = \"coroperv/oxford-flowers\"\n",
    "dataset = load_dataset(dataset_name, split=\"train\")\n",
    "print(dataset)"
   ]
  },
  {
   "cell_type": "code",
   "execution_count": 6,
   "id": "d09acb32-8344-465d-a3ff-04840b097502",
   "metadata": {
    "colab": {
     "base_uri": "https://localhost:8080/"
    },
    "id": "d09acb32-8344-465d-a3ff-04840b097502",
    "outputId": "03b98a2d-02ff-4aa9-f03c-9e65a48a9282"
   },
   "outputs": [
    {
     "name": "stdout",
     "output_type": "stream",
     "text": [
      "{'0': 22, '1': 34, '2': 28, '3': 18, '4': 41, '5': 32, '6': 40, '7': 16, '8': 49, '9': 20, '10': 34, '11': 30, '12': 22, '13': 39, '14': 24, '15': 21, '16': 29, '17': 23, '18': 19, '19': 31, '20': 69, '21': 36, '22': 13, '23': 18, '24': 42, '25': 40, '26': 54, '27': 82, '28': 60, '29': 53, '30': 48, '31': 22, '32': 58, '33': 2, '34': 56, '35': 30, '36': 28, '37': 30, '38': 50, '39': 27, '40': 39, '41': 42, '42': 4, '43': 44, '44': 49, '45': 86, '46': 85, '47': 72, '48': 53, '49': 68, '50': 65, '51': 34, '52': 37, '53': 68, '54': 16, '55': 26, '56': 107, '57': 27, '58': 61, '59': 39, '60': 40}\n"
     ]
    }
   ],
   "source": [
    "label_dict = {}\n",
    "for i in dataset[\"label\"]:\n",
    "    if str(i) in label_dict:\n",
    "        label_dict[str(i)] += 1\n",
    "    else:\n",
    "        label_dict[str(i)] = 1\n",
    "print(label_dict)"
   ]
  },
  {
   "cell_type": "code",
   "execution_count": 7,
   "id": "ae1905ab-1e0f-4240-9b1f-4f80f08910c5",
   "metadata": {
    "colab": {
     "base_uri": "https://localhost:8080/"
    },
    "id": "ae1905ab-1e0f-4240-9b1f-4f80f08910c5",
    "outputId": "40086fa4-dd24-4fd9-f87a-b7f316e29148"
   },
   "outputs": [
    {
     "name": "stdout",
     "output_type": "stream",
     "text": [
      "3: 18\n",
      "7: 16\n",
      "18: 19\n",
      "22: 13\n",
      "23: 18\n",
      "33: 2\n",
      "42: 4\n",
      "54: 16\n",
      "[3, 7, 18, 22, 23, 33, 42, 54]\n"
     ]
    }
   ],
   "source": [
    "labels_to_rm = []\n",
    "for i in label_dict:\n",
    "    if label_dict[i] < 20:\n",
    "        print(i + \": \" + str(label_dict[i]))\n",
    "        labels_to_rm.append(int(i))\n",
    "print(labels_to_rm)"
   ]
  },
  {
   "cell_type": "code",
   "execution_count": 8,
   "id": "442c111c-e214-4b9d-ac99-a72de4d609e9",
   "metadata": {
    "colab": {
     "base_uri": "https://localhost:8080/",
     "height": 49,
     "referenced_widgets": [
      "113865c3257f4ddd9226def81e52e0c4",
      "27d6695ae6e146489d2b87e85c58d9ee",
      "2a590dc0d07f400792347bf6c30d764a",
      "89e0e63a1bff441b896b51bcb0eabf53",
      "e08548e16d304a56b201c2281b0471df",
      "64fba0d7abfe478c915e9cb3a534b2c9",
      "8870c05ce3d34958af1145855adf5dee",
      "18951eb0ca964a05901e62b7b075cabe",
      "2fbf859aa37940c794d820b995deecc4",
      "9a52f225e9fc45a99804cfcd451a53e2",
      "af796c06a16d4a1e8778848e344eb3b2"
     ]
    },
    "id": "442c111c-e214-4b9d-ac99-a72de4d609e9",
    "outputId": "db107a3c-6312-456d-d9ee-176b4d9628fb"
   },
   "outputs": [
    {
     "data": {
      "application/vnd.jupyter.widget-view+json": {
       "model_id": "113865c3257f4ddd9226def81e52e0c4",
       "version_major": 2,
       "version_minor": 0
      },
      "text/plain": [
       "Filter:   0%|          | 0/2452 [00:00<?, ? examples/s]"
      ]
     },
     "metadata": {},
     "output_type": "display_data"
    }
   ],
   "source": [
    "dataset = dataset.filter(lambda example: example[\"label\"] not in labels_to_rm)"
   ]
  },
  {
   "cell_type": "code",
   "execution_count": 9,
   "id": "edc0bb57-6e69-42ed-831e-794d67cc03ab",
   "metadata": {
    "colab": {
     "base_uri": "https://localhost:8080/"
    },
    "id": "edc0bb57-6e69-42ed-831e-794d67cc03ab",
    "outputId": "4524f03d-985b-4235-ecd9-9ef09e9112c4"
   },
   "outputs": [
    {
     "name": "stdout",
     "output_type": "stream",
     "text": [
      "Dataset({\n",
      "    features: ['image', 'label'],\n",
      "    num_rows: 2346\n",
      "})\n",
      "53\n"
     ]
    }
   ],
   "source": [
    "print(dataset)\n",
    "print(len(set(dataset[\"label\"])))"
   ]
  },
  {
   "cell_type": "code",
   "execution_count": 10,
   "id": "26219e23-950f-4740-a75e-d045ddc5dc49",
   "metadata": {
    "id": "26219e23-950f-4740-a75e-d045ddc5dc49"
   },
   "outputs": [],
   "source": [
    "label_fix_dict = {}\n",
    "for i, label in enumerate(set(dataset[\"label\"])):\n",
    "    label_fix_dict[str(label)] = i\n",
    "    #print(str(i), str(label))"
   ]
  },
  {
   "cell_type": "code",
   "execution_count": 11,
   "id": "d82cb534-2e01-47d2-bad0-bc4d967ce089",
   "metadata": {
    "colab": {
     "base_uri": "https://localhost:8080/",
     "height": 86,
     "referenced_widgets": [
      "b7dd1d9b8a0242ba92e5b042f6dc7e0b",
      "95f7c2cafcc9496faaf59b7dc9cbc2e5",
      "7938c510b4af450ea2335fd0c5fdac57",
      "b277c395fc8f402491443e7b0803eca4",
      "3af09e1d606f45ceb66af9918129afb9",
      "01ec4b4a5836408a899518cb5568e803",
      "14db826cafc143a5bb4176e128a39b0d",
      "6a0d8af37f1947178ea19b5b77ffb14e",
      "6b4af138dbb546dfbd97bb36d892a96a",
      "ea4ccc87dcdf419bb4abbc6f5d2eb84d",
      "04f2746523054f59856b32017c0daf93"
     ]
    },
    "id": "d82cb534-2e01-47d2-bad0-bc4d967ce089",
    "outputId": "48ba1a88-c4dd-4531-c8db-8f51667cfb36"
   },
   "outputs": [
    {
     "data": {
      "application/vnd.jupyter.widget-view+json": {
       "model_id": "b7dd1d9b8a0242ba92e5b042f6dc7e0b",
       "version_major": 2,
       "version_minor": 0
      },
      "text/plain": [
       "Map:   0%|          | 0/2346 [00:00<?, ? examples/s]"
      ]
     },
     "metadata": {},
     "output_type": "display_data"
    },
    {
     "name": "stdout",
     "output_type": "stream",
     "text": [
      "{0, 1, 2, 4, 5, 6, 8, 9, 10, 11, 12, 13, 14, 15, 16, 17, 19, 20, 21, 24, 25, 26, 27, 28, 29, 30, 31, 32, 34, 35, 36, 37, 38, 39, 40, 41, 43, 44, 45, 46, 47, 48, 49, 50, 51, 52, 53, 55, 56, 57, 58, 59, 60}\n"
     ]
    }
   ],
   "source": [
    "def fix_labels(example):\n",
    "    example[\"label\"] = label_fix_dict[str(example[\"label\"])]\n",
    "    return example\n",
    "\n",
    "dataset_base = dataset.map(fix_labels)\n",
    "print(set(dataset[\"label\"]))"
   ]
  },
  {
   "cell_type": "code",
   "execution_count": 12,
   "id": "ff2ea132-7f1d-46bc-9037-dedcacf17e16",
   "metadata": {
    "colab": {
     "base_uri": "https://localhost:8080/",
     "height": 345
    },
    "id": "ff2ea132-7f1d-46bc-9037-dedcacf17e16",
    "outputId": "b38b8895-ccea-4c1e-8338-f93f2828a657"
   },
   "outputs": [
    {
     "name": "stdout",
     "output_type": "stream",
     "text": [
      "[0, 0, 0, 0]\n"
     ]
    },
    {
     "data": {
      "image/png": "[encoded data removed]",
      "text/plain": [
       "<Figure size 1600x400 with 4 Axes>"
      ]
     },
     "metadata": {},
     "output_type": "display_data"
    }
   ],
   "source": [
    "fig, axs = plt.subplots(1, 4, figsize=(16, 4))\n",
    "for i, image in enumerate(dataset_base[:4][\"image\"]):\n",
    "    axs[i].imshow(image)\n",
    "    axs[i].set_axis_off()\n",
    "fig.show()\n",
    "\n",
    "print(dataset_base[:4][\"label\"])"
   ]
  },
  {
   "cell_type": "code",
   "execution_count": 13,
   "id": "c27cd88c-1c59-48b2-8bfd-36d95fe56154",
   "metadata": {
    "id": "c27cd88c-1c59-48b2-8bfd-36d95fe56154"
   },
   "outputs": [],
   "source": [
    "image_size = 128\n",
    "\n",
    "preprocess = transforms.Compose(\n",
    "    [   transforms.CenterCrop((min(image.size), min(image.size))),\n",
    "        transforms.Resize((image_size, image_size)),\n",
    "        transforms.RandomHorizontalFlip(),\n",
    "        transforms.ToTensor(),\n",
    "        transforms.Normalize([0.5], [0.5]),\n",
    "    ]\n",
    ")\n",
    "\n",
    "preprocess2 = transforms.Compose(\n",
    "    [   transforms.CenterCrop((min(image.size), min(image.size))),\n",
    "        transforms.Resize((image_size, image_size)),\n",
    "        transforms.RandomHorizontalFlip(),\n",
    "        transforms.RandomAdjustSharpness(sharpness_factor = 1.5),\n",
    "        transforms.ColorJitter(brightness = 0.5, contrast = (0,0), saturation = (0,0), hue = (0,0)),\n",
    "        transforms.ColorJitter(brightness = (0,0), contrast = 0.5, saturation = (0,0), hue = (0,0)),\n",
    "        transforms.ColorJitter(brightness = (0,0), contrast = (0,0), saturation = 0.5, hue = (0,0)),\n",
    "        transforms.ColorJitter(brightness = (0,0), contrast = (0,0), saturation = (0,0), hue = 0.5),\n",
    "        transforms.ToTensor(),\n",
    "        transforms.Normalize([0.5], [0.5])\n",
    "    ]\n",
    ")\n",
    "\n",
    "def transform(examples):\n",
    "    examples[\"pixel_values\"] = [preprocess(image.convert(\"RGB\")) for image in examples[\"image\"]]\n",
    "    del examples[\"image\"]\n",
    "    return examples\n",
    "\n",
    "dataset = dataset_base\n",
    "dataset.set_transform(transform)"
   ]
  },
  {
   "cell_type": "markdown",
   "id": "1d9e9f5b-bc97-478f-9513-54db909537f5",
   "metadata": {
    "id": "1d9e9f5b-bc97-478f-9513-54db909537f5"
   },
   "source": [
    "# Unet"
   ]
  },
  {
   "cell_type": "code",
   "execution_count": 16,
   "id": "b77b1dc9-80fb-44d2-9abb-788b18e89749",
   "metadata": {
    "id": "b77b1dc9-80fb-44d2-9abb-788b18e89749"
   },
   "outputs": [],
   "source": [
    "class ResidualConvBlock(nn.Module):\n",
    "    def __init__(\n",
    "        self, in_channels: int, out_channels: int, is_res: bool = False\n",
    "    ) -> None:\n",
    "        super().__init__()\n",
    "        '''\n",
    "        standard ResNet style convolutional block\n",
    "        '''\n",
    "        self.same_channels = in_channels==out_channels\n",
    "        self.is_res = is_res\n",
    "        self.conv1 = nn.Sequential(\n",
    "            nn.Conv2d(in_channels, out_channels, 3, 1, 1),\n",
    "            nn.BatchNorm2d(out_channels),\n",
    "            nn.GELU(),\n",
    "        )\n",
    "        self.conv2 = nn.Sequential(\n",
    "            nn.Conv2d(out_channels, out_channels, 3, 1, 1),\n",
    "            nn.BatchNorm2d(out_channels),\n",
    "            nn.GELU(),\n",
    "        )\n",
    "\n",
    "    def forward(self, x: torch.Tensor) -> torch.Tensor:\n",
    "        if self.is_res:\n",
    "            x1 = self.conv1(x)\n",
    "            x2 = self.conv2(x1)\n",
    "            # this adds on correct residual in case channels have increased\n",
    "            if self.same_channels:\n",
    "                out = x + x2\n",
    "            else:\n",
    "                out = x1 + x2\n",
    "            return out / 1.414\n",
    "        else:\n",
    "            x1 = self.conv1(x)\n",
    "            x2 = self.conv2(x1)\n",
    "            return x2\n",
    "\n",
    "\n",
    "class UnetDown(nn.Module):\n",
    "    def __init__(self, in_channels, out_channels):\n",
    "        super(UnetDown, self).__init__()\n",
    "        '''\n",
    "        process and downscale the image feature maps\n",
    "        '''\n",
    "        layers = [ResidualConvBlock(in_channels, out_channels), nn.MaxPool2d(2)]\n",
    "        self.model = nn.Sequential(*layers)\n",
    "\n",
    "    def forward(self, x):\n",
    "        return self.model(x)\n",
    "\n",
    "\n",
    "class UnetUp(nn.Module):\n",
    "    def __init__(self, in_channels, out_channels):\n",
    "        super(UnetUp, self).__init__()\n",
    "        '''\n",
    "        process and upscale the image feature maps\n",
    "        '''\n",
    "        layers = [\n",
    "            nn.ConvTranspose2d(in_channels, out_channels, 2, 2),\n",
    "            ResidualConvBlock(out_channels, out_channels),\n",
    "            ResidualConvBlock(out_channels, out_channels),\n",
    "        ]\n",
    "        self.model = nn.Sequential(*layers)\n",
    "\n",
    "    def forward(self, x, skip):\n",
    "        x = torch.cat((x, skip), 1)\n",
    "        x = self.model(x)\n",
    "        return x\n",
    "\n",
    "\n",
    "class EmbedFC(nn.Module):\n",
    "    def __init__(self, input_dim, emb_dim):\n",
    "        super(EmbedFC, self).__init__()\n",
    "        '''\n",
    "        generic one layer FC NN for embedding things\n",
    "        '''\n",
    "        self.input_dim = input_dim\n",
    "        layers = [\n",
    "            nn.Linear(input_dim, emb_dim),\n",
    "            nn.GELU(),\n",
    "            nn.Linear(emb_dim, emb_dim),\n",
    "        ]\n",
    "        self.model = nn.Sequential(*layers)\n",
    "\n",
    "    def forward(self, x):\n",
    "        x = x.view(-1, self.input_dim)\n",
    "        return self.model(x)\n",
    "\n",
    "\n",
    "class ContextUnet(nn.Module):\n",
    "    def __init__(self, in_channels, n_feat = 128, n_classes=10):\n",
    "        super(ContextUnet, self).__init__()\n",
    "\n",
    "        self.in_channels = in_channels\n",
    "        self.n_feat = n_feat\n",
    "        self.n_classes = n_classes\n",
    "\n",
    "        self.init_conv = ResidualConvBlock(in_channels, n_feat, is_res=True)\n",
    "\n",
    "        self.down1 = UnetDown(n_feat, n_feat)\n",
    "        self.down2 = UnetDown(n_feat, 2 * n_feat)\n",
    "\n",
    "        self.to_vec = nn.Sequential(nn.AvgPool2d(8), nn.GELU())\n",
    "\n",
    "        self.timeembed1 = EmbedFC(1, 2*n_feat)\n",
    "        self.timeembed2 = EmbedFC(1, 1*n_feat)\n",
    "        self.contextembed1 = EmbedFC(n_classes, 2*n_feat)\n",
    "        self.contextembed2 = EmbedFC(n_classes, 1*n_feat)\n",
    "\n",
    "        self.up0 = nn.Sequential(\n",
    "            nn.ConvTranspose2d(2 * n_feat, 2 * n_feat, 8, 8), # otherwise just have 2*n_feat\n",
    "            nn.GroupNorm(8, 2 * n_feat),\n",
    "            nn.ReLU(),\n",
    "        )\n",
    "\n",
    "        self.up1 = UnetUp(4 * n_feat, n_feat)\n",
    "        self.up2 = UnetUp(2 * n_feat, n_feat)\n",
    "        self.out = nn.Sequential(\n",
    "            nn.Conv2d(2 * n_feat, n_feat, 3, 1, 1),\n",
    "            nn.GroupNorm(8, n_feat),\n",
    "            nn.ReLU(),\n",
    "            nn.Conv2d(n_feat, self.in_channels, 3, 1, 1),\n",
    "        )\n",
    "\n",
    "    def forward(self, x, t, c, context_mask):\n",
    "        # x is (noisy) image, c is context label, t is timestep,\n",
    "        # context_mask says which samples to block the context on\n",
    "\n",
    "        x = self.init_conv(x)\n",
    "        down1 = self.down1(x)\n",
    "        down2 = self.down2(down1)\n",
    "        hiddenvec = self.to_vec(down2)\n",
    "\n",
    "        # convert context to one hot embedding\n",
    "        c = nn.functional.one_hot(c, num_classes=self.n_classes).type(torch.float32)\n",
    "\n",
    "        # mask out context if context_mask == 1\n",
    "        context_mask = context_mask[:, None]\n",
    "        context_mask = context_mask.repeat(1,self.n_classes)\n",
    "        context_mask = (-1*(1-context_mask)) # need to flip 0 <-> 1\n",
    "        c = c * context_mask\n",
    "\n",
    "        # embed context, time step\n",
    "        cemb1 = self.contextembed1(c).view(-1, self.n_feat * 2, 1, 1)\n",
    "        temb1 = self.timeembed1(t).view(-1, self.n_feat * 2, 1, 1)\n",
    "        cemb2 = self.contextembed2(c).view(-1, self.n_feat, 1, 1)\n",
    "        temb2 = self.timeembed2(t).view(-1, self.n_feat, 1, 1)\n",
    "\n",
    "        up1 = self.up0(hiddenvec)\n",
    "        up2 = self.up1(cemb1*up1+ temb1, down2)  # add and multiply embeddings\n",
    "        up3 = self.up2(cemb2*up2+ temb2, down1)\n",
    "        out = self.out(torch.cat((up3, x), 1))\n",
    "\n",
    "        return out"
   ]
  },
  {
   "cell_type": "markdown",
   "id": "yoDlyVkkSKj1",
   "metadata": {
    "id": "yoDlyVkkSKj1"
   },
   "source": [
    "# Unet 3-layer"
   ]
  },
  {
   "cell_type": "code",
   "execution_count": 17,
   "id": "8qahJy9ISOWn",
   "metadata": {
    "id": "8qahJy9ISOWn"
   },
   "outputs": [],
   "source": [
    "def exists(x):\n",
    "    return x is not None\n",
    "\n",
    "\n",
    "def default(val, d):\n",
    "    if exists(val):\n",
    "        return val\n",
    "    return d() if isfunction(d) else d\n",
    "\n",
    "class Residual(nn.Module):\n",
    "    def __init__(self, fn):\n",
    "        super().__init__()\n",
    "        self.fn = fn\n",
    "\n",
    "    def forward(self, x, *args, **kwargs):\n",
    "        return self.fn(x, *args, **kwargs) + x\n",
    "\n",
    "\n",
    "def Upsample(dim):\n",
    "    return nn.ConvTranspose2d(dim, dim, 4, 2, 1)\n",
    "\n",
    "\n",
    "def Downsample(dim):\n",
    "    return nn.Conv2d(dim, dim, 4, 2, 1)\n",
    "\n",
    "\n",
    "################\n",
    "# Time embedding\n",
    "################\n",
    "class SinusoidalPositionEmbeddings(nn.Module):\n",
    "    \"\"\"\n",
    "    Takes a tensor of shape (batch_size, 1) as input\n",
    "    (i.e. the noise levels of several noisy images in a batch),\n",
    "    and turns this into a tensor of shape (batch_size, dim),\n",
    "    with dim being the dimensionality of the position embeddings.\n",
    "    \"\"\"\n",
    "\n",
    "    def __init__(self, dim):\n",
    "        super().__init__()\n",
    "        self.dim = dim\n",
    "\n",
    "    def forward(self, time):\n",
    "        device = time.device\n",
    "        half_dim = self.dim // 2\n",
    "        embeddings = math.log(10000) / (half_dim - 1)\n",
    "        embeddings = torch.exp(torch.arange(\n",
    "            half_dim, device=device) * -embeddings)\n",
    "        embeddings = time[:, None] * embeddings[None, :]\n",
    "        embeddings = torch.cat((embeddings.sin(), embeddings.cos()), dim=-1)\n",
    "        return embeddings\n",
    "\n",
    "\n",
    "################\n",
    "# Conv blocks\n",
    "################\n",
    "class ConvNextBlock(nn.Module):\n",
    "    \"\"\"\n",
    "    https://arxiv.org/abs/2201.03545\n",
    "    \"\"\"\n",
    "\n",
    "    def __init__(self, dim, dim_out, *, time_emb_dim=None, context_emb_dim = None, n_classes = 53, mult=2, norm=True):\n",
    "        super().__init__()\n",
    "        self.mlp = (\n",
    "            nn.Sequential(nn.GELU(), nn.Linear(time_emb_dim, dim))\n",
    "            if exists(time_emb_dim)\n",
    "            else None\n",
    "        )\n",
    "\n",
    "        self.mlp_context = (\n",
    "            nn.Sequential(nn.ReLU(), nn.Linear(context_emb_dim, dim)) # nn.Linear(n_classes, context_emb_dim),\n",
    "            if exists(context_emb_dim)\n",
    "            else None\n",
    "        )\n",
    "\n",
    "        self.ds_conv = nn.Conv2d(dim, dim, 7, padding=3, groups=dim)\n",
    "\n",
    "        self.net = nn.Sequential(\n",
    "            nn.GroupNorm(1, dim) if norm else nn.Identity(),\n",
    "            nn.Conv2d(dim, dim_out * mult, 3, padding=1),\n",
    "            nn.GELU(),\n",
    "            nn.GroupNorm(1, dim_out * mult),\n",
    "            nn.Conv2d(dim_out * mult, dim_out, 3, padding=1),\n",
    "        )\n",
    "\n",
    "        self.res_conv = nn.Conv2d(\n",
    "            dim, dim_out, 1) if dim != dim_out else nn.Identity()\n",
    "\n",
    "    def forward(self, x, time_emb=None, context_emb=None):\n",
    "        h = self.ds_conv(x)\n",
    "\n",
    "        if exists(self.mlp) and exists(time_emb):\n",
    "            condition = self.mlp(time_emb)\n",
    "            # broadcast to each pixel the time embedding: [b,c,h,w] + [b,c,1,1]\n",
    "            h = h + rearrange(condition, \"b c -> b c 1 1\")\n",
    "\n",
    "        if exists(self.mlp_context) and exists(context_emb):\n",
    "            condition_context = self.mlp_context(context_emb)\n",
    "            # broadcast to each pixel the time embedding: [b,c,h,w] + [b,c,1,1]\n",
    "            h = h + rearrange(condition_context, \"b c -> b c 1 1\")\n",
    "\n",
    "        h = self.net(h)\n",
    "        return h + self.res_conv(x)\n",
    "\n",
    "\n",
    "################\n",
    "# Attention blocks\n",
    "################\n",
    "class Attention(nn.Module):\n",
    "    def __init__(self, dim, heads=4, dim_head=32):\n",
    "        super().__init__()\n",
    "        self.scale = dim_head**-0.5\n",
    "        self.heads = heads\n",
    "        hidden_dim = dim_head * heads\n",
    "        self.to_qkv = nn.Conv2d(dim, hidden_dim * 3, 1, bias=False)\n",
    "        self.to_out = nn.Conv2d(hidden_dim, dim, 1)\n",
    "\n",
    "    def forward(self, x):\n",
    "        b, c, h, w = x.shape\n",
    "        qkv = self.to_qkv(x).chunk(3, dim=1)\n",
    "        q, k, v = map(\n",
    "            lambda t: rearrange(\n",
    "                t, \"b (h c) x y -> b h c (x y)\", h=self.heads), qkv\n",
    "        )\n",
    "        q = q * self.scale\n",
    "\n",
    "        sim = einsum(\"b h d i, b h d j -> b h i j\", q, k)\n",
    "        sim = sim - sim.amax(dim=-1, keepdim=True).detach()\n",
    "        attn = sim.softmax(dim=-1)\n",
    "\n",
    "        out = einsum(\"b h i j, b h d j -> b h i d\", attn, v)\n",
    "        out = rearrange(out, \"b h (x y) d -> b (h d) x y\", x=h, y=w)\n",
    "        return self.to_out(out)\n",
    "\n",
    "\n",
    "class LinearAttention(nn.Module):\n",
    "    def __init__(self, dim, heads=4, dim_head=32):\n",
    "        super().__init__()\n",
    "        self.scale = dim_head**-0.5\n",
    "        self.heads = heads\n",
    "        hidden_dim = dim_head * heads\n",
    "        self.to_qkv = nn.Conv2d(dim, hidden_dim * 3, 1, bias=False)\n",
    "\n",
    "        self.to_out = nn.Sequential(nn.Conv2d(hidden_dim, dim, 1),\n",
    "                                    nn.GroupNorm(1, dim))\n",
    "\n",
    "    def forward(self, x):\n",
    "        b, c, h, w = x.shape\n",
    "        qkv = self.to_qkv(x).chunk(3, dim=1)\n",
    "        q, k, v = map(\n",
    "            lambda t: rearrange(\n",
    "                t, \"b (h c) x y -> b h c (x y)\", h=self.heads), qkv\n",
    "        )\n",
    "\n",
    "        q = q.softmax(dim=-2)\n",
    "        k = k.softmax(dim=-1)\n",
    "\n",
    "        q = q * self.scale\n",
    "        context = torch.einsum(\"b h d n, b h e n -> b h d e\", k, v)\n",
    "\n",
    "        out = torch.einsum(\"b h d e, b h d n -> b h e n\", context, q)\n",
    "        out = rearrange(out, \"b h c (x y) -> b (h c) x y\",\n",
    "                        h=self.heads, x=h, y=w)\n",
    "        return self.to_out(out)\n",
    "\n",
    "\n",
    "class PreNorm(nn.Module):\n",
    "    \"\"\"\n",
    "    used to apply group norm before attention\n",
    "    \"\"\"\n",
    "\n",
    "    def __init__(self, dim, fn):\n",
    "        super().__init__()\n",
    "        self.fn = fn\n",
    "        self.norm = nn.GroupNorm(1, dim)\n",
    "\n",
    "    def forward(self, x):\n",
    "        x = self.norm(x)\n",
    "        return self.fn(x)\n",
    "\n",
    "\n",
    "################\n",
    "# U-net architecture\n",
    "################\n",
    "class Unet_3layer(nn.Module):\n",
    "    def __init__(\n",
    "        self,\n",
    "        dim,\n",
    "        init_dim=None,\n",
    "        out_dim=None,\n",
    "        dim_mults=(1, 2, 4, 8),\n",
    "        channels=3,\n",
    "        n_classes = 53,\n",
    "        with_time_emb=True,\n",
    "        with_context_emb=True,\n",
    "        use_convnext=True,\n",
    "        convnext_mult=2,\n",
    "    ):\n",
    "        super().__init__()\n",
    "\n",
    "        # determine dimensions\n",
    "        self.channels = channels\n",
    "        self.n_classes = n_classes\n",
    "\n",
    "        init_dim = default(init_dim, dim // 3 * 2)\n",
    "        self.init_conv = nn.Conv2d(channels, init_dim, 7, padding=3)\n",
    "\n",
    "        dims = [init_dim, *map(lambda m: dim * m, dim_mults)]\n",
    "        in_out = list(zip(dims[:-1], dims[1:]))\n",
    "\n",
    "        block_klass = partial(ConvNextBlock, mult=convnext_mult)\n",
    "\n",
    "        # time embeddings\n",
    "        if with_time_emb:\n",
    "            time_dim = dim * 4\n",
    "            self.time_mlp = nn.Sequential(\n",
    "                SinusoidalPositionEmbeddings(dim),\n",
    "                nn.Linear(dim, time_dim),\n",
    "                nn.GELU(),\n",
    "                nn.Linear(time_dim, time_dim),\n",
    "            )\n",
    "        else:\n",
    "            time_dim = None\n",
    "            self.time_mlp = None\n",
    "\n",
    "        # context embeddings\n",
    "        if with_context_emb:\n",
    "            context_dim = dim * 4\n",
    "            self.context_mlp = nn.Sequential(\n",
    "                nn.Linear(n_classes, context_dim),\n",
    "                nn.ReLU(),\n",
    "                nn.Linear(context_dim, context_dim),\n",
    "            )\n",
    "        else:\n",
    "            context_dim = None\n",
    "            self.context_mlp = None\n",
    "\n",
    "        # layers\n",
    "        self.downs = nn.ModuleList([])\n",
    "        self.ups = nn.ModuleList([])\n",
    "        num_resolutions = len(in_out)\n",
    "\n",
    "        for ind, (dim_in, dim_out) in enumerate(in_out):\n",
    "            is_last = ind >= (num_resolutions - 1)\n",
    "\n",
    "            self.downs.append(\n",
    "                nn.ModuleList(\n",
    "                    [\n",
    "                        block_klass(dim_in, dim_out, time_emb_dim=time_dim, context_emb_dim = context_dim),\n",
    "                        block_klass(dim_out, dim_out, time_emb_dim=time_dim, context_emb_dim = context_dim),\n",
    "                        Residual(PreNorm(dim_out, LinearAttention(dim_out))),\n",
    "                        Downsample(dim_out) if not is_last else nn.Identity(),\n",
    "                    ]\n",
    "                )\n",
    "            )\n",
    "\n",
    "        mid_dim = dims[-1]\n",
    "        self.mid_block1 = block_klass(mid_dim, mid_dim, time_emb_dim=time_dim, context_emb_dim = context_dim)\n",
    "        self.mid_attn = Residual(PreNorm(mid_dim, Attention(mid_dim)))\n",
    "        self.mid_block2 = block_klass(mid_dim, mid_dim, time_emb_dim=time_dim, context_emb_dim = context_dim)\n",
    "\n",
    "        for ind, (dim_in, dim_out) in enumerate(reversed(in_out[1:])):\n",
    "            is_last = ind >= (num_resolutions - 1)\n",
    "\n",
    "            self.ups.append(\n",
    "                nn.ModuleList(\n",
    "                    [\n",
    "                        block_klass(dim_out * 2, dim_in,\n",
    "                                    time_emb_dim=time_dim, context_emb_dim = context_dim),\n",
    "                        block_klass(dim_in, dim_in, time_emb_dim=time_dim, context_emb_dim = context_dim),\n",
    "                        Residual(PreNorm(dim_in, LinearAttention(dim_in))),\n",
    "                        Upsample(dim_in) if not is_last else nn.Identity(),\n",
    "                    ]\n",
    "                )\n",
    "            )\n",
    "\n",
    "        out_dim = default(out_dim, channels)\n",
    "        self.final_conv = nn.Sequential(\n",
    "            block_klass(dim, dim), nn.Conv2d(dim, out_dim, 1)\n",
    "        )\n",
    "\n",
    "    def forward(self, x, time, c, context_mask):\n",
    "        x = self.init_conv(x)\n",
    "\n",
    "        t = self.time_mlp(time) if exists(self.time_mlp) else None\n",
    "\n",
    "        # convert context to one hot embedding\n",
    "        c = nn.functional.one_hot(c, num_classes=self.n_classes).type(torch.float32)\n",
    "        # mask out context if context_mask == 1\n",
    "        context_mask = context_mask[:, None]\n",
    "        context_mask = context_mask.repeat(1,self.n_classes)\n",
    "        context_mask = (-1*(1-context_mask)) # need to flip 0 <-> 1\n",
    "        c = c * context_mask\n",
    "        cont = self.context_mlp(c) if exists(self.context_mlp) else None\n",
    "\n",
    "        h = []\n",
    "\n",
    "        # downsample\n",
    "        for block1, block2, attn, downsample in self.downs:\n",
    "            x = block1(x, t, cont)\n",
    "            x = block2(x, t, cont)\n",
    "            x = attn(x)\n",
    "            h.append(x)\n",
    "            x = downsample(x)\n",
    "\n",
    "        # bottleneck\n",
    "        x = self.mid_block1(x, t, cont)\n",
    "        x = self.mid_attn(x)\n",
    "        x = self.mid_block2(x, t, cont)\n",
    "\n",
    "        # upsample\n",
    "        for block1, block2, attn, upsample in self.ups:\n",
    "            x = torch.cat((x, h.pop()), dim=1)\n",
    "            x = block1(x, t, cont)\n",
    "            x = block2(x, t, cont)\n",
    "            x = attn(x)\n",
    "            x = upsample(x)\n",
    "\n",
    "        return self.final_conv(x)"
   ]
  },
  {
   "cell_type": "markdown",
   "id": "c916480e-dc14-40f2-9cd6-fcb753157633",
   "metadata": {
    "id": "c916480e-dc14-40f2-9cd6-fcb753157633"
   },
   "source": [
    "# DDPM schedules"
   ]
  },
  {
   "cell_type": "code",
   "execution_count": 18,
   "id": "9bb7d8c5-3111-40f0-bf9f-e107e4fa2a48",
   "metadata": {
    "id": "9bb7d8c5-3111-40f0-bf9f-e107e4fa2a48"
   },
   "outputs": [],
   "source": [
    "def ddpm_schedules(T, schedule_type = \"linear\"):\n",
    "    \"\"\"\n",
    "    Returns pre-computed schedules for DDPM sampling, training process.\n",
    "    \"\"\"\n",
    "\n",
    "    def alpha_bar(time_step):\n",
    "      return math.cos((time_step + 0.008) / 1.008 * math.pi / 2) ** 2\n",
    "\n",
    "    if schedule_type == \"linear\":\n",
    "        beta1 = 1e-4\n",
    "        beta2 = 0.02\n",
    "        beta_t = (beta2 - beta1) * torch.arange(0, T + 1, dtype=torch.float32) / T + beta1\n",
    "\n",
    "    sqrt_beta_t = torch.sqrt(beta_t)\n",
    "    alpha_t = 1 - beta_t\n",
    "    alphabar_t = torch.cumprod(alpha_t, dim=0)\n",
    "\n",
    "    sqrtab = torch.sqrt(alphabar_t)\n",
    "    oneover_sqrta = 1 / torch.sqrt(alpha_t)\n",
    "\n",
    "    sqrtmab = torch.sqrt(1 - alphabar_t)\n",
    "    mab_over_sqrtmab_inv = (1 - alpha_t) / sqrtmab\n",
    "\n",
    "\n",
    "    return {\n",
    "        \"alpha_t\": alpha_t,  # \\alpha_t\n",
    "        \"oneover_sqrta\": oneover_sqrta,  # 1/\\sqrt{\\alpha_t}\n",
    "        \"sqrt_beta_t\": sqrt_beta_t,  # \\sqrt{\\beta_t}\n",
    "        \"alphabar_t\": alphabar_t,  # \\bar{\\alpha_t}\n",
    "        \"sqrtab\": sqrtab,  # \\sqrt{\\bar{\\alpha_t}}\n",
    "        \"sqrtmab\": sqrtmab,  # \\sqrt{1-\\bar{\\alpha_t}}\n",
    "        \"mab_over_sqrtmab\": mab_over_sqrtmab_inv,  # (1-\\alpha_t)/\\sqrt{1-\\bar{\\alpha_t}}\n",
    "    }\n"
   ]
  },
  {
   "cell_type": "markdown",
   "id": "ae33e0d4-951e-4a2c-add8-5799ef533a5e",
   "metadata": {
    "id": "ae33e0d4-951e-4a2c-add8-5799ef533a5e"
   },
   "source": [
    "# DDPM"
   ]
  },
  {
   "cell_type": "code",
   "execution_count": 19,
   "id": "8a9a6751-8b0e-4001-8dfe-01479c6a6820",
   "metadata": {
    "id": "8a9a6751-8b0e-4001-8dfe-01479c6a6820"
   },
   "outputs": [],
   "source": [
    "class DDPM(nn.Module):\n",
    "    def __init__(self, nn_model, n_T, device = \"cpu\", schedule_type = \"linear\", drop_prob=0.1, model_type = \"2_layer\"):\n",
    "        super(DDPM, self).__init__()\n",
    "        self.nn_model = nn_model.to(device)\n",
    "        self.schedule_type = schedule_type\n",
    "\n",
    "        # register_buffer allows accessing dictionary produced by ddpm_schedules\n",
    "        # e.g. can access self.sqrtab later\n",
    "        for k, v in ddpm_schedules(n_T, schedule_type = self.schedule_type).items():\n",
    "            self.register_buffer(k, v)\n",
    "\n",
    "        self.n_T = n_T\n",
    "        self.device = device\n",
    "        self.drop_prob = drop_prob\n",
    "        self.loss_mse = nn.MSELoss()\n",
    "        self.model_type = model_type\n",
    "\n",
    "    def forward(self, x, c):\n",
    "        \"\"\"\n",
    "        this method is used in training, so samples t and noise randomly\n",
    "        \"\"\"\n",
    "\n",
    "        _ts = torch.randint(1, self.n_T+1, (x.shape[0],)).to(self.device)  # t ~ Uniform(0, n_T)\n",
    "        noise = torch.randn_like(x, dtype = torch.float32)  # eps ~ N(0, 1)\n",
    "\n",
    "        x_t = (\n",
    "            self.sqrtab[_ts, None, None, None] * x\n",
    "            + self.sqrtmab[_ts, None, None, None] * noise\n",
    "        )  # This is the x_t, which is sqrt(alphabar) x_0 + sqrt(1-alphabar) * eps\n",
    "        # We should predict the \"error term\" from this x_t. Loss is what we return.\n",
    "\n",
    "\n",
    "        # dropout context with some probability\n",
    "        context_mask = torch.bernoulli(torch.zeros_like(c)+self.drop_prob).to(self.device)\n",
    "\n",
    "        # return MSE between added noise, and our predicted noise\n",
    "        return self.loss_mse(noise, self.nn_model(x_t, _ts / self.n_T, c, context_mask))  #\n",
    "\n",
    "    def sample(self, n_sample, size, device, guide_w = 0.0, n_classes = 10):\n",
    "        # we follow the guidance sampling scheme described in 'Classifier-Free Diffusion Guidance'\n",
    "        # to make the fwd passes efficient, we concat two versions of the dataset,\n",
    "        # one with context_mask=0 and the other context_mask=1\n",
    "        # we then mix the outputs with the guidance scale, w\n",
    "        # where w>0 means more guidance\n",
    "\n",
    "        x_i = torch.randn(n_sample, *size).to(device)  # x_T ~ N(0, 1), sample initial noise\n",
    "        c_i = torch.arange(0,n_classes).to(device) # context for us just cycles throught the mnist labels\n",
    "        c_i = c_i.repeat(int(n_sample/c_i.shape[0]))\n",
    "\n",
    "        # don't drop context at test time\n",
    "        context_mask = torch.zeros_like(c_i).to(device)\n",
    "\n",
    "        # double the batch\n",
    "        c_i = c_i.repeat(2)\n",
    "        context_mask = context_mask.repeat(2)\n",
    "        context_mask[n_sample:] = 1. # makes second half of batch context free\n",
    "\n",
    "        x_i_store = [] # keep track of generated steps in case want to plot something\n",
    "        print()\n",
    "        for i in range(self.n_T, 0, -1):\n",
    "            print(f'sampling timestep {i}',end='\\r')\n",
    "            if self.model_type == \"3_layer\":\n",
    "              t_is = torch.full((n_sample,), (i / self.n_T), device=device, dtype=torch.float32) #\n",
    "              t_is = t_is.repeat(2)\n",
    "            if self.model_type  == \"2_layer\":\n",
    "              t_is = torch.tensor([i / self.n_T]).to(device)\n",
    "              t_is = t_is.repeat(n_sample,1,1,1)\n",
    "              t_is = t_is.repeat(2,1,1,1)\n",
    "\n",
    "\n",
    "            # double batch\n",
    "            x_i = x_i.repeat(2,1,1,1)\n",
    "\n",
    "\n",
    "            z = torch.randn(n_sample, *size).to(device) if i > 1 else 0\n",
    "\n",
    "            # split predictions and compute weighting\n",
    "            eps = self.nn_model(x_i, t_is, c_i, context_mask)\n",
    "            eps1 = eps[:n_sample] # with context\n",
    "            eps2 = eps[n_sample:] # without context\n",
    "            eps = (1+guide_w)*eps1 - guide_w*eps2\n",
    "            x_i = x_i[:n_sample]\n",
    "            x_i = (\n",
    "                self.oneover_sqrta[i] * (x_i - eps * self.mab_over_sqrtmab[i])\n",
    "                + self.sqrt_beta_t[i] * z\n",
    "            )\n",
    "            if i%200==0 or i==self.n_T or i<8:\n",
    "                x_i_store.append(x_i.detach().cpu().numpy())\n",
    "\n",
    "        x_i_store = np.array(x_i_store)\n",
    "        return x_i, x_i_store"
   ]
  },
  {
   "cell_type": "markdown",
   "id": "06598450-f8cd-4a9c-91fa-9bc5f123a5b0",
   "metadata": {
    "id": "06598450-f8cd-4a9c-91fa-9bc5f123a5b0"
   },
   "source": [
    "# Training"
   ]
  },
  {
   "cell_type": "code",
   "execution_count": 20,
   "id": "oLM_K-axuPsi",
   "metadata": {
    "id": "oLM_K-axuPsi"
   },
   "outputs": [],
   "source": [
    "save_dir = './cfg_ddpm/'\n",
    "os.makedirs(save_dir, exist_ok=True)"
   ]
  },
  {
   "cell_type": "code",
   "execution_count": 21,
   "id": "U2TiPWHl5QeU",
   "metadata": {
    "colab": {
     "base_uri": "https://localhost:8080/"
    },
    "id": "U2TiPWHl5QeU",
    "outputId": "29861059-4791-4480-ef2a-04d073056a9e"
   },
   "outputs": [
    {
     "name": "stdout",
     "output_type": "stream",
     "text": [
      "Downloading: \"https://github.com/chaofengc/IQA-PyTorch/releases/download/v0.1-weights/CNNIQA_koniq10k-e6f14c91.pth\" to /root/.cache/torch/hub/checkpoints/CNNIQA_koniq10k-e6f14c91.pth\n",
      "\n"
     ]
    },
    {
     "name": "stderr",
     "output_type": "stream",
     "text": [
      "100%|██████████| 2.79M/2.79M [00:00<00:00, 58.7MB/s]\n"
     ]
    },
    {
     "name": "stdout",
     "output_type": "stream",
     "text": [
      "Loading pretrained model CNNIQA from /root/.cache/torch/hub/checkpoints/CNNIQA_koniq10k-e6f14c91.pth\n",
      "Downloading: \"https://github.com/chaofengc/IQA-PyTorch/releases/download/v0.1-weights/niqe_modelparameters.mat\" to /root/.cache/torch/hub/checkpoints/niqe_modelparameters.mat\n",
      "\n"
     ]
    },
    {
     "name": "stderr",
     "output_type": "stream",
     "text": [
      "100%|██████████| 8.15k/8.15k [00:00<00:00, 10.1MB/s]\n"
     ]
    },
    {
     "name": "stdout",
     "output_type": "stream",
     "text": [
      "Downloading: \"https://github.com/chaofengc/IQA-PyTorch/releases/download/v0.1-weights/brisque_svm_weights.pth\" to /root/.cache/torch/hub/checkpoints/brisque_svm_weights.pth\n",
      "\n"
     ]
    },
    {
     "name": "stderr",
     "output_type": "stream",
     "text": [
      "100%|██████████| 112k/112k [00:00<00:00, 19.1MB/s]\n"
     ]
    }
   ],
   "source": [
    "cnniqa = pyiqa.create_metric('cnniqa').cuda()\n",
    "niqe = pyiqa.create_metric('niqe').cuda()\n",
    "brisque = pyiqa.create_metric('brisque').cuda()"
   ]
  },
  {
   "cell_type": "code",
   "execution_count": 24,
   "id": "zauTXYWm4a0f",
   "metadata": {
    "colab": {
     "base_uri": "https://localhost:8080/"
    },
    "id": "zauTXYWm4a0f",
    "outputId": "b9a9c36d-7ae8-47fa-fa8e-f4a874121aa4"
   },
   "outputs": [
    {
     "data": {
      "text/plain": [
       "26"
      ]
     },
     "execution_count": 24,
     "metadata": {},
     "output_type": "execute_result"
    }
   ],
   "source": [
    "import gc\n",
    "gc.collect()"
   ]
  },
  {
   "cell_type": "code",
   "execution_count": 25,
   "id": "s5acgaz6cTFV",
   "metadata": {
    "id": "s5acgaz6cTFV"
   },
   "outputs": [],
   "source": [
    "torch.cuda.empty_cache()"
   ]
  },
  {
   "cell_type": "code",
   "execution_count": null,
   "id": "cb8a2b9e-d9f0-457d-97b9-f2eb9546168a",
   "metadata": {
    "colab": {
     "base_uri": "https://localhost:8080/"
    },
    "id": "cb8a2b9e-d9f0-457d-97b9-f2eb9546168a",
    "outputId": "183f2fbb-3ad6-4257-ba0b-b4fccee00842"
   },
   "outputs": [
    {
     "name": "stdout",
     "output_type": "stream",
     "text": [
      "epoch 0\n"
     ]
    },
    {
     "name": "stderr",
     "output_type": "stream",
     "text": [
      "loss: 0.1834: 100%|██████████| 147/147 [01:40<00:00,  1.46it/s]\n"
     ]
    },
    {
     "name": "stdout",
     "output_type": "stream",
     "text": [
      "Epoch training time: 100.77198076248169\n",
      "epoch 1\n"
     ]
    },
    {
     "name": "stderr",
     "output_type": "stream",
     "text": [
      "loss: 0.1052: 100%|██████████| 147/147 [01:38<00:00,  1.49it/s]\n"
     ]
    },
    {
     "name": "stdout",
     "output_type": "stream",
     "text": [
      "Epoch training time: 98.49433445930481\n",
      "epoch 2\n"
     ]
    },
    {
     "name": "stderr",
     "output_type": "stream",
     "text": [
      "loss: 0.0843: 100%|██████████| 147/147 [01:38<00:00,  1.49it/s]\n"
     ]
    },
    {
     "name": "stdout",
     "output_type": "stream",
     "text": [
      "Epoch training time: 98.50846815109253\n",
      "epoch 3\n"
     ]
    },
    {
     "name": "stderr",
     "output_type": "stream",
     "text": [
      "loss: 0.0749: 100%|██████████| 147/147 [01:38<00:00,  1.49it/s]\n"
     ]
    },
    {
     "name": "stdout",
     "output_type": "stream",
     "text": [
      "Epoch training time: 98.61097931861877\n",
      "epoch 4\n"
     ]
    },
    {
     "name": "stderr",
     "output_type": "stream",
     "text": [
      "loss: 0.0705: 100%|██████████| 147/147 [01:38<00:00,  1.49it/s]\n"
     ]
    },
    {
     "name": "stdout",
     "output_type": "stream",
     "text": [
      "Epoch training time: 98.55192589759827\n",
      "epoch 5\n"
     ]
    },
    {
     "name": "stderr",
     "output_type": "stream",
     "text": [
      "loss: 0.0586: 100%|██████████| 147/147 [01:38<00:00,  1.49it/s]\n"
     ]
    },
    {
     "name": "stdout",
     "output_type": "stream",
     "text": [
      "Epoch training time: 98.61778163909912\n",
      "epoch 6\n"
     ]
    },
    {
     "name": "stderr",
     "output_type": "stream",
     "text": [
      "loss: 0.0595: 100%|██████████| 147/147 [01:38<00:00,  1.49it/s]\n"
     ]
    },
    {
     "name": "stdout",
     "output_type": "stream",
     "text": [
      "Epoch training time: 98.61456298828125\n",
      "epoch 7\n"
     ]
    },
    {
     "name": "stderr",
     "output_type": "stream",
     "text": [
      "loss: 0.0521: 100%|██████████| 147/147 [01:38<00:00,  1.49it/s]\n"
     ]
    },
    {
     "name": "stdout",
     "output_type": "stream",
     "text": [
      "Epoch training time: 98.65032243728638\n",
      "epoch 8\n"
     ]
    },
    {
     "name": "stderr",
     "output_type": "stream",
     "text": [
      "loss: 0.0384: 100%|██████████| 147/147 [01:38<00:00,  1.49it/s]\n"
     ]
    },
    {
     "name": "stdout",
     "output_type": "stream",
     "text": [
      "Epoch training time: 98.60384941101074\n",
      "epoch 9\n"
     ]
    },
    {
     "name": "stderr",
     "output_type": "stream",
     "text": [
      "loss: 0.0480: 100%|██████████| 147/147 [01:38<00:00,  1.49it/s]\n"
     ]
    },
    {
     "name": "stdout",
     "output_type": "stream",
     "text": [
      "Epoch training time: 98.54195833206177\n",
      "epoch 10\n"
     ]
    },
    {
     "name": "stderr",
     "output_type": "stream",
     "text": [
      "loss: 0.0402: 100%|██████████| 147/147 [01:38<00:00,  1.49it/s]\n"
     ]
    },
    {
     "name": "stdout",
     "output_type": "stream",
     "text": [
      "Epoch training time: 98.4970121383667\n",
      "epoch 11\n"
     ]
    },
    {
     "name": "stderr",
     "output_type": "stream",
     "text": [
      "loss: 0.0372: 100%|██████████| 147/147 [01:38<00:00,  1.49it/s]\n"
     ]
    },
    {
     "name": "stdout",
     "output_type": "stream",
     "text": [
      "Epoch training time: 98.56758546829224\n",
      "epoch 12\n"
     ]
    },
    {
     "name": "stderr",
     "output_type": "stream",
     "text": [
      "loss: 0.0313: 100%|██████████| 147/147 [01:38<00:00,  1.49it/s]\n"
     ]
    },
    {
     "name": "stdout",
     "output_type": "stream",
     "text": [
      "Epoch training time: 98.62936282157898\n",
      "epoch 13\n"
     ]
    },
    {
     "name": "stderr",
     "output_type": "stream",
     "text": [
      "loss: 0.0351: 100%|██████████| 147/147 [01:38<00:00,  1.49it/s]\n"
     ]
    },
    {
     "name": "stdout",
     "output_type": "stream",
     "text": [
      "Epoch training time: 98.65654993057251\n",
      "epoch 14\n"
     ]
    },
    {
     "name": "stderr",
     "output_type": "stream",
     "text": [
      "loss: 0.0372: 100%|██████████| 147/147 [01:38<00:00,  1.49it/s]\n"
     ]
    },
    {
     "name": "stdout",
     "output_type": "stream",
     "text": [
      "Epoch training time: 98.63125109672546\n",
      "epoch 15\n"
     ]
    },
    {
     "name": "stderr",
     "output_type": "stream",
     "text": [
      "loss: 0.0349: 100%|██████████| 147/147 [01:38<00:00,  1.49it/s]\n"
     ]
    },
    {
     "name": "stdout",
     "output_type": "stream",
     "text": [
      "Epoch training time: 98.53476214408875\n",
      "epoch 16\n"
     ]
    },
    {
     "name": "stderr",
     "output_type": "stream",
     "text": [
      "loss: 0.0351: 100%|██████████| 147/147 [01:38<00:00,  1.49it/s]\n"
     ]
    },
    {
     "name": "stdout",
     "output_type": "stream",
     "text": [
      "Epoch training time: 98.46949768066406\n",
      "epoch 17\n"
     ]
    },
    {
     "name": "stderr",
     "output_type": "stream",
     "text": [
      "loss: 0.0362: 100%|██████████| 147/147 [01:38<00:00,  1.49it/s]\n"
     ]
    },
    {
     "name": "stdout",
     "output_type": "stream",
     "text": [
      "Epoch training time: 98.47187519073486\n",
      "epoch 18\n"
     ]
    },
    {
     "name": "stderr",
     "output_type": "stream",
     "text": [
      "loss: 0.0329: 100%|██████████| 147/147 [01:38<00:00,  1.49it/s]\n"
     ]
    },
    {
     "name": "stdout",
     "output_type": "stream",
     "text": [
      "Epoch training time: 98.44050931930542\n",
      "epoch 19\n"
     ]
    },
    {
     "name": "stderr",
     "output_type": "stream",
     "text": [
      "loss: 0.0304: 100%|██████████| 147/147 [01:38<00:00,  1.49it/s]\n"
     ]
    },
    {
     "name": "stdout",
     "output_type": "stream",
     "text": [
      "Epoch training time: 98.48558807373047\n",
      "epoch 20\n"
     ]
    },
    {
     "name": "stderr",
     "output_type": "stream",
     "text": [
      "loss: 0.0325: 100%|██████████| 147/147 [01:38<00:00,  1.49it/s]\n"
     ]
    },
    {
     "name": "stdout",
     "output_type": "stream",
     "text": [
      "Epoch training time: 98.51606822013855\n",
      "epoch 21\n"
     ]
    },
    {
     "name": "stderr",
     "output_type": "stream",
     "text": [
      "loss: 0.0338: 100%|██████████| 147/147 [01:38<00:00,  1.49it/s]\n"
     ]
    },
    {
     "name": "stdout",
     "output_type": "stream",
     "text": [
      "Epoch training time: 98.58694195747375\n",
      "epoch 22\n"
     ]
    },
    {
     "name": "stderr",
     "output_type": "stream",
     "text": [
      "loss: 0.0307: 100%|██████████| 147/147 [01:38<00:00,  1.49it/s]\n"
     ]
    },
    {
     "name": "stdout",
     "output_type": "stream",
     "text": [
      "Epoch training time: 98.56986618041992\n",
      "epoch 23\n"
     ]
    },
    {
     "name": "stderr",
     "output_type": "stream",
     "text": [
      "loss: 0.0308: 100%|██████████| 147/147 [01:38<00:00,  1.49it/s]\n"
     ]
    },
    {
     "name": "stdout",
     "output_type": "stream",
     "text": [
      "Epoch training time: 98.5987937450409\n",
      "epoch 24\n"
     ]
    },
    {
     "name": "stderr",
     "output_type": "stream",
     "text": [
      "loss: 0.0294: 100%|██████████| 147/147 [01:38<00:00,  1.49it/s]\n"
     ]
    },
    {
     "name": "stdout",
     "output_type": "stream",
     "text": [
      "Epoch training time: 98.55839991569519\n",
      "epoch 25\n"
     ]
    },
    {
     "name": "stderr",
     "output_type": "stream",
     "text": [
      "loss: 0.0291: 100%|██████████| 147/147 [01:38<00:00,  1.49it/s]\n"
     ]
    },
    {
     "name": "stdout",
     "output_type": "stream",
     "text": [
      "Epoch training time: 98.4571943283081\n",
      "epoch 26\n"
     ]
    },
    {
     "name": "stderr",
     "output_type": "stream",
     "text": [
      "loss: 0.0233: 100%|██████████| 147/147 [01:38<00:00,  1.49it/s]\n"
     ]
    },
    {
     "name": "stdout",
     "output_type": "stream",
     "text": [
      "Epoch training time: 98.50145959854126\n",
      "epoch 27\n"
     ]
    },
    {
     "name": "stderr",
     "output_type": "stream",
     "text": [
      "loss: 0.0305: 100%|██████████| 147/147 [01:38<00:00,  1.49it/s]\n"
     ]
    },
    {
     "name": "stdout",
     "output_type": "stream",
     "text": [
      "Epoch training time: 98.58392977714539\n",
      "epoch 28\n"
     ]
    },
    {
     "name": "stderr",
     "output_type": "stream",
     "text": [
      "loss: 0.0361: 100%|██████████| 147/147 [01:38<00:00,  1.49it/s]\n"
     ]
    },
    {
     "name": "stdout",
     "output_type": "stream",
     "text": [
      "Epoch training time: 98.49786853790283\n",
      "epoch 29\n"
     ]
    },
    {
     "name": "stderr",
     "output_type": "stream",
     "text": [
      "loss: 0.0313: 100%|██████████| 147/147 [01:38<00:00,  1.49it/s]\n"
     ]
    },
    {
     "name": "stdout",
     "output_type": "stream",
     "text": [
      "Epoch training time: 98.46171450614929\n",
      "epoch 30\n"
     ]
    },
    {
     "name": "stderr",
     "output_type": "stream",
     "text": [
      "loss: 0.0325: 100%|██████████| 147/147 [01:38<00:00,  1.49it/s]\n"
     ]
    },
    {
     "name": "stdout",
     "output_type": "stream",
     "text": [
      "Epoch training time: 98.52019762992859\n",
      "epoch 31\n"
     ]
    },
    {
     "name": "stderr",
     "output_type": "stream",
     "text": [
      "loss: 0.0259: 100%|██████████| 147/147 [01:38<00:00,  1.49it/s]\n"
     ]
    },
    {
     "name": "stdout",
     "output_type": "stream",
     "text": [
      "Epoch training time: 98.60680794715881\n",
      "epoch 32\n"
     ]
    },
    {
     "name": "stderr",
     "output_type": "stream",
     "text": [
      "loss: 0.0297: 100%|██████████| 147/147 [01:38<00:00,  1.49it/s]\n"
     ]
    },
    {
     "name": "stdout",
     "output_type": "stream",
     "text": [
      "Epoch training time: 98.50618553161621\n",
      "epoch 33\n"
     ]
    },
    {
     "name": "stderr",
     "output_type": "stream",
     "text": [
      "loss: 0.0268: 100%|██████████| 147/147 [01:38<00:00,  1.49it/s]\n"
     ]
    },
    {
     "name": "stdout",
     "output_type": "stream",
     "text": [
      "Epoch training time: 98.47667503356934\n",
      "epoch 34\n"
     ]
    },
    {
     "name": "stderr",
     "output_type": "stream",
     "text": [
      "loss: 0.0271: 100%|██████████| 147/147 [01:38<00:00,  1.49it/s]\n"
     ]
    },
    {
     "name": "stdout",
     "output_type": "stream",
     "text": [
      "Epoch training time: 98.43353533744812\n",
      "epoch 35\n"
     ]
    },
    {
     "name": "stderr",
     "output_type": "stream",
     "text": [
      "loss: 0.0241: 100%|██████████| 147/147 [01:38<00:00,  1.49it/s]\n"
     ]
    },
    {
     "name": "stdout",
     "output_type": "stream",
     "text": [
      "Epoch training time: 98.53443241119385\n",
      "epoch 36\n"
     ]
    },
    {
     "name": "stderr",
     "output_type": "stream",
     "text": [
      "loss: 0.0249: 100%|██████████| 147/147 [01:38<00:00,  1.49it/s]\n"
     ]
    },
    {
     "name": "stdout",
     "output_type": "stream",
     "text": [
      "Epoch training time: 98.52981996536255\n",
      "epoch 37\n"
     ]
    },
    {
     "name": "stderr",
     "output_type": "stream",
     "text": [
      "loss: 0.0290: 100%|██████████| 147/147 [01:38<00:00,  1.49it/s]\n"
     ]
    },
    {
     "name": "stdout",
     "output_type": "stream",
     "text": [
      "Epoch training time: 98.48138809204102\n",
      "epoch 38\n"
     ]
    },
    {
     "name": "stderr",
     "output_type": "stream",
     "text": [
      "loss: 0.0259: 100%|██████████| 147/147 [01:38<00:00,  1.49it/s]\n"
     ]
    },
    {
     "name": "stdout",
     "output_type": "stream",
     "text": [
      "Epoch training time: 98.5321671962738\n",
      "epoch 39\n"
     ]
    },
    {
     "name": "stderr",
     "output_type": "stream",
     "text": [
      "loss: 0.0242: 100%|██████████| 147/147 [01:38<00:00,  1.49it/s]\n"
     ]
    },
    {
     "name": "stdout",
     "output_type": "stream",
     "text": [
      "Epoch training time: 98.46219778060913\n",
      "epoch 40\n"
     ]
    },
    {
     "name": "stderr",
     "output_type": "stream",
     "text": [
      "loss: 0.0260: 100%|██████████| 147/147 [01:38<00:00,  1.49it/s]\n"
     ]
    },
    {
     "name": "stdout",
     "output_type": "stream",
     "text": [
      "Epoch training time: 98.45093202590942\n",
      "epoch 41\n"
     ]
    },
    {
     "name": "stderr",
     "output_type": "stream",
     "text": [
      "loss: 0.0235: 100%|██████████| 147/147 [01:38<00:00,  1.49it/s]\n"
     ]
    },
    {
     "name": "stdout",
     "output_type": "stream",
     "text": [
      "Epoch training time: 98.51802182197571\n",
      "epoch 42\n"
     ]
    },
    {
     "name": "stderr",
     "output_type": "stream",
     "text": [
      "loss: 0.0226: 100%|██████████| 147/147 [01:38<00:00,  1.49it/s]\n"
     ]
    },
    {
     "name": "stdout",
     "output_type": "stream",
     "text": [
      "Epoch training time: 98.47326159477234\n",
      "epoch 43\n"
     ]
    },
    {
     "name": "stderr",
     "output_type": "stream",
     "text": [
      "loss: 0.0248: 100%|██████████| 147/147 [01:38<00:00,  1.49it/s]\n"
     ]
    },
    {
     "name": "stdout",
     "output_type": "stream",
     "text": [
      "Epoch training time: 98.46360063552856\n",
      "epoch 44\n"
     ]
    },
    {
     "name": "stderr",
     "output_type": "stream",
     "text": [
      "loss: 0.0288: 100%|██████████| 147/147 [01:38<00:00,  1.49it/s]\n"
     ]
    },
    {
     "name": "stdout",
     "output_type": "stream",
     "text": [
      "Epoch training time: 98.45310306549072\n",
      "epoch 45\n"
     ]
    },
    {
     "name": "stderr",
     "output_type": "stream",
     "text": [
      "loss: 0.0270: 100%|██████████| 147/147 [01:38<00:00,  1.49it/s]\n"
     ]
    },
    {
     "name": "stdout",
     "output_type": "stream",
     "text": [
      "Epoch training time: 98.44641041755676\n",
      "epoch 46\n"
     ]
    },
    {
     "name": "stderr",
     "output_type": "stream",
     "text": [
      "loss: 0.0250: 100%|██████████| 147/147 [01:38<00:00,  1.49it/s]\n"
     ]
    },
    {
     "name": "stdout",
     "output_type": "stream",
     "text": [
      "Epoch training time: 98.45673823356628\n",
      "epoch 47\n"
     ]
    },
    {
     "name": "stderr",
     "output_type": "stream",
     "text": [
      "loss: 0.0245: 100%|██████████| 147/147 [01:38<00:00,  1.49it/s]\n"
     ]
    },
    {
     "name": "stdout",
     "output_type": "stream",
     "text": [
      "Epoch training time: 98.46010041236877\n",
      "epoch 48\n"
     ]
    },
    {
     "name": "stderr",
     "output_type": "stream",
     "text": [
      "loss: 0.0229: 100%|██████████| 147/147 [01:38<00:00,  1.49it/s]\n"
     ]
    },
    {
     "name": "stdout",
     "output_type": "stream",
     "text": [
      "Epoch training time: 98.54968881607056\n",
      "epoch 49\n"
     ]
    },
    {
     "name": "stderr",
     "output_type": "stream",
     "text": [
      "loss: 0.0259: 100%|██████████| 147/147 [01:38<00:00,  1.49it/s]\n"
     ]
    },
    {
     "name": "stdout",
     "output_type": "stream",
     "text": [
      "Epoch training time: 98.56596040725708\n",
      "epoch 50\n"
     ]
    },
    {
     "name": "stderr",
     "output_type": "stream",
     "text": [
      "loss: 0.0224: 100%|██████████| 147/147 [01:38<00:00,  1.49it/s]\n"
     ]
    },
    {
     "name": "stdout",
     "output_type": "stream",
     "text": [
      "Epoch training time: 98.53874611854553\n",
      "epoch 51\n"
     ]
    },
    {
     "name": "stderr",
     "output_type": "stream",
     "text": [
      "loss: 0.0234: 100%|██████████| 147/147 [01:38<00:00,  1.49it/s]\n"
     ]
    },
    {
     "name": "stdout",
     "output_type": "stream",
     "text": [
      "Epoch training time: 98.52276539802551\n",
      "epoch 52\n"
     ]
    },
    {
     "name": "stderr",
     "output_type": "stream",
     "text": [
      "loss: 0.0265: 100%|██████████| 147/147 [01:38<00:00,  1.49it/s]\n"
     ]
    },
    {
     "name": "stdout",
     "output_type": "stream",
     "text": [
      "Epoch training time: 98.53462481498718\n",
      "epoch 53\n"
     ]
    },
    {
     "name": "stderr",
     "output_type": "stream",
     "text": [
      "loss: 0.0235: 100%|██████████| 147/147 [01:38<00:00,  1.49it/s]\n"
     ]
    },
    {
     "name": "stdout",
     "output_type": "stream",
     "text": [
      "Epoch training time: 98.53278160095215\n",
      "epoch 54\n"
     ]
    },
    {
     "name": "stderr",
     "output_type": "stream",
     "text": [
      "loss: 0.0291: 100%|██████████| 147/147 [01:38<00:00,  1.49it/s]\n"
     ]
    },
    {
     "name": "stdout",
     "output_type": "stream",
     "text": [
      "Epoch training time: 98.55294466018677\n",
      "epoch 55\n"
     ]
    },
    {
     "name": "stderr",
     "output_type": "stream",
     "text": [
      "loss: 0.0275: 100%|██████████| 147/147 [01:38<00:00,  1.49it/s]\n"
     ]
    },
    {
     "name": "stdout",
     "output_type": "stream",
     "text": [
      "Epoch training time: 98.53072953224182\n",
      "epoch 56\n"
     ]
    },
    {
     "name": "stderr",
     "output_type": "stream",
     "text": [
      "loss: 0.0248:  15%|█▍        | 22/147 [00:14<01:23,  1.49it/s]"
     ]
    }
   ],
   "source": [
    "# hardcoding these here\n",
    "n_epoch = 80\n",
    "batch_size = 16\n",
    "n_T = 800 # 400 # 500\n",
    "device = 'cuda' if torch.cuda.is_available() else 'cpu'\n",
    "n_classes = 53\n",
    "n_feat = 128 # 128 ok, 256 better (but slower)\n",
    "lrate = 1e-4\n",
    "save_model = True\n",
    "ws_test = [0] # [0.0, 0.5, 2.0] # strength of generative guidance\n",
    "\n",
    "#ddpm = DDPM(nn_model=ContextUnet(in_channels=3, n_feat=n_feat, n_classes=n_classes), n_T=n_T, device=device, schedule_type = \"linear\", drop_prob=0.1, model_type = \"2_layer\")\n",
    "#ddpm = DDPM(nn_model=Unet_3layer(dim = 128, dim_mults=(1, 2, 4, 8), channels=3, n_classes = 53), n_T=n_T, device=device, schedule_type = \"linear\", drop_prob=0.1, model_type = \"3_layer\")\n",
    "#ddpm.to(device)\n",
    "\n",
    "# optionally load a model\n",
    "# ddpm.load_state_dict(torch.load(\"./ddpm_cfg/model_ep79.pth\"))\n",
    "\n",
    "dataloader = DataLoader(dataset, batch_size=batch_size, shuffle=True, num_workers=1)\n",
    "optim = torch.optim.Adam(ddpm.parameters(), lr=lrate)\n",
    "\n",
    "total_train_start = time.time()\n",
    "ep_train_times = []\n",
    "inference_times = []\n",
    "for ep in range(n_epoch):\n",
    "    ep_train_start = time.time()\n",
    "    print(f'epoch {ep}')\n",
    "    ddpm.train()\n",
    "\n",
    "    # linear lrate decay\n",
    "    optim.param_groups[0]['lr'] = lrate*(1-ep/n_epoch)\n",
    "\n",
    "    pbar = tqdm(dataloader)\n",
    "    loss_ema = None\n",
    "    for data in pbar:\n",
    "        optim.zero_grad()\n",
    "        x = data[\"pixel_values\"].to(device)\n",
    "        c = data[\"label\"].to(device)\n",
    "        loss = ddpm(x, c)\n",
    "        loss.backward()\n",
    "        if loss_ema is None:\n",
    "            loss_ema = loss.item()\n",
    "        else:\n",
    "            loss_ema = 0.95 * loss_ema + 0.05 * loss.item()\n",
    "        pbar.set_description(f\"loss: {loss_ema:.4f}\")\n",
    "        optim.step()\n",
    "\n",
    "    ep_train_end = time.time()\n",
    "    ep_train_times.append(ep_train_end - ep_train_start)\n",
    "    print(f\"Epoch training time: {ep_train_end - ep_train_start}\")\n",
    "\n",
    "\n",
    "    save_dir_i = save_dir + f\"ep{ep}/\"\n",
    "    os.makedirs(save_dir_i, exist_ok=True)\n",
    "    # optionally save model\n",
    "    if save_model and ep == int(n_epoch-1):\n",
    "        torch.save(ddpm.state_dict(), save_dir + f\"model_{ep}.pth\")\n",
    "        print('saved model at ' + save_dir + f\"model_{ep}.pth\")\n",
    "\n",
    "total_train_end = time.time()\n",
    "print(f\"Total training time: {total_train_end - total_train_start}\")"
   ]
  },
  {
   "cell_type": "code",
   "execution_count": null,
   "id": "4Vfs9ofIpfPM",
   "metadata": {
    "colab": {
     "base_uri": "https://localhost:8080/"
    },
    "id": "4Vfs9ofIpfPM",
    "outputId": "ec40e2ec-ea09-4bab-8623-adcc43108b90"
   },
   "outputs": [
    {
     "name": "stdout",
     "output_type": "stream",
     "text": [
      "1852.4495174884796\n",
      "0:30:52.449517\n"
     ]
    }
   ],
   "source": [
    "total_training_sum = 0\n",
    "for i in ep_train_times:\n",
    "  total_training_sum += i\n",
    "print(total_training_sum)\n",
    "print(str(datetime.timedelta(seconds=total_training_sum)))"
   ]
  },
  {
   "cell_type": "code",
   "execution_count": null,
   "id": "L534PycR5Q3U",
   "metadata": {
    "id": "L534PycR5Q3U"
   },
   "outputs": [],
   "source": [
    "gc.collect()\n",
    "torch.cuda.empty_cache()"
   ]
  },
  {
   "cell_type": "code",
   "execution_count": null,
   "id": "9NrdZIQBS32p",
   "metadata": {
    "colab": {
     "base_uri": "https://localhost:8080/"
    },
    "id": "9NrdZIQBS32p",
    "outputId": "d5dca97a-b88e-470f-f071-4f64afe8e99a"
   },
   "outputs": [
    {
     "name": "stdout",
     "output_type": "stream",
     "text": [
      "3: 18\n",
      "7: 16\n",
      "18: 19\n",
      "22: 13\n",
      "23: 18\n",
      "33: 2\n",
      "42: 4\n",
      "54: 16\n",
      "Dataset({\n",
      "    features: ['image', 'label'],\n",
      "    num_rows: 2346\n",
      "})\n",
      "torch.Size([2346, 3, 128, 128])\n"
     ]
    }
   ],
   "source": [
    "from torchvision.transforms import functional as F\n",
    "dataset_name = \"coroperv/oxford-flowers\"\n",
    "dataset_test = load_dataset(dataset_name, split=\"train\")\n",
    "\n",
    "label_dict = {}\n",
    "for i in dataset_test[\"label\"]:\n",
    "    if str(i) in label_dict:\n",
    "        label_dict[str(i)] += 1\n",
    "    else:\n",
    "        label_dict[str(i)] = 1\n",
    "\n",
    "labels_to_rm = []\n",
    "for i in label_dict:\n",
    "    if label_dict[i] < 20:\n",
    "        print(i + \": \" + str(label_dict[i]))\n",
    "        labels_to_rm.append(int(i))\n",
    "\n",
    "dataset_test = dataset_test.filter(lambda example: example[\"label\"] not in labels_to_rm)\n",
    "label_fix_dict = {}\n",
    "for i, label in enumerate(set(dataset_test[\"label\"])):\n",
    "    label_fix_dict[str(label)] = i\n",
    "\n",
    "def fix_labels(example):\n",
    "    example[\"label\"] = label_fix_dict[str(example[\"label\"])]\n",
    "    return example\n",
    "\n",
    "dataset_test = dataset_test.map(fix_labels)\n",
    "print(dataset_test)\n",
    "\n",
    "def preprocess_real_images(image):\n",
    "    image = F.center_crop(image,(min(image.size), min(image.size)))\n",
    "    image = F.resize(image, (image_size, image_size))\n",
    "    image = F.to_tensor(image).unsqueeze(0)\n",
    "    return image\n",
    "\n",
    "\n",
    "dataset_testing = torch.cat([preprocess_real_images(image.convert(\"RGB\")) for image in dataset_test[\"image\"]])\n",
    "print(dataset_testing.shape)"
   ]
  },
  {
   "cell_type": "code",
   "execution_count": null,
   "id": "ldFxcBTrTNHo",
   "metadata": {
    "id": "ldFxcBTrTNHo"
   },
   "outputs": [],
   "source": [
    "from torchmetrics.image.fid import FrechetInceptionDistance\n",
    "from torchmetrics.image.inception import InceptionScore"
   ]
  },
  {
   "cell_type": "code",
   "execution_count": null,
   "id": "90e598a5-e4f7-46e2-bd07-b8e601a55735",
   "metadata": {
    "colab": {
     "base_uri": "https://localhost:8080/"
    },
    "id": "90e598a5-e4f7-46e2-bd07-b8e601a55735",
    "outputId": "55276200-0ee8-4232-ecf6-f424de47e81d"
   },
   "outputs": [
    {
     "name": "stdout",
     "output_type": "stream",
     "text": [
      "\n",
      "inference time: 607.6658427715302\n",
      "x_gen shape:  torch.Size([106, 3, 128, 128])\n",
      "saved image at ./data/cfg_ddpm_bs32/images/all_images_w0.png\n",
      "Mean CNN-IQA: 0.148039953431712\n",
      "Mean niqe: 17.886673364261473\n",
      "Mean brisque: 50.01288993403597\n"
     ]
    }
   ],
   "source": [
    "# for eval, save an image of currently generated samples (top rows)\n",
    "# followed by real images (bottom rows)\n",
    "save_dir = './data/cfg_ddpm/'\n",
    "os.makedirs(save_dir, exist_ok=True)\n",
    "\n",
    "\n",
    "n_T = 800 # 400 # 500\n",
    "device = 'cuda' if torch.cuda.is_available() else 'cpu'\n",
    "n_classes = 53\n",
    "n_feat = 128 # 128 ok, 256 better (but slower)\n",
    "lrate = 1e-4\n",
    "save_model = True\n",
    "ws_test = [0] # [0.0, 0.5, 2.0] # strength of generative guidance\n",
    "\n",
    "#ddpm = DDPM(nn_model=ContextUnet(in_channels=3, n_feat=n_feat, n_classes=n_classes), n_T=n_T, device=device, drop_prob=0.1)\n",
    "#ddpm = DDPM(nn_model=Unet_3layer(dim = 128, dim_mults=(1, 2, 4, 8), channels=3, n_classes = 53), n_T=n_T, device=device, schedule_type = \"linear\", drop_prob=0.1)\n",
    "#ddpm.to(device)\n",
    "\n",
    "# optionally load a model\n",
    "#ddpm.load_state_dict(torch.load(\"./ddpm_cfg/model_79.pth\"))\n",
    "\n",
    "inference_times = []\n",
    "ddpm.eval()\n",
    "with torch.no_grad():\n",
    "    n_sample = 2*n_classes\n",
    "\n",
    "    for w_i, w in enumerate(ws_test):\n",
    "\n",
    "        inference_time_start = time.time()\n",
    "        x_gen, x_gen_store = ddpm.sample(n_sample, (3, 128, 128), device, guide_w=w, n_classes = 53)\n",
    "        inference_time_end = time.time()\n",
    "        inference_times.append(inference_time_end - inference_time_start)\n",
    "        print(f\"inference time: {inference_time_end - inference_time_start}\")\n",
    "        print(\"x_gen shape: \", x_gen.shape)\n",
    "\n",
    "        if len(ws_test) > 1:\n",
    "          save_dir_i = save_dir + f\"images/w{w_i}/\"\n",
    "          os.makedirs(save_dir_i, exist_ok=True)\n",
    "          grid = make_grid(x_gen, normalize=True, value_range=(-1, 1), nrow=n_classes)\n",
    "          save_image(grid, save_dir_i + f\"all_images_w{w_i}.png\")\n",
    "          print('saved image at ' + save_dir_i + f\"all_images_w{w_i}.png\")\n",
    "\n",
    "          for img_i in range(x_gen.shape[0]):\n",
    "            grid = make_grid(x_gen[img_i], normalize=True, value_range=(-1, 1), nrow=1)\n",
    "            save_image(grid, save_dir_i + f\"img{img_i}.png\")\n",
    "        else:\n",
    "          save_dir_i = save_dir + f\"images/\"\n",
    "          os.makedirs(save_dir_i, exist_ok=True)\n",
    "          grid = make_grid(x_gen, normalize=True, value_range=(-1, 1), nrow=n_classes)\n",
    "          save_image(grid, save_dir_i + f\"all_images_w{w_i}.png\")\n",
    "          print('saved image at ' + save_dir_i + f\"all_images_w{w_i}.png\")\n",
    "\n",
    "          for img_i in range(x_gen.shape[0]):\n",
    "            grid = make_grid(x_gen[img_i], normalize=True, value_range=(-1, 1), nrow=1)\n",
    "            save_image(grid, save_dir_i + f\"img{img_i}.png\")\n",
    "\n",
    "        cnniqa_list = cnniqa(x_gen).flatten().tolist()\n",
    "        print(f\"Mean CNN-IQA: {mean(cnniqa_list)}\")\n",
    "\n",
    "        niqe_list = niqe(x_gen).flatten().tolist()\n",
    "        print(f\"Mean niqe: {mean(niqe_list)}\")\n",
    "\n",
    "        brisque_list = brisque(x_gen).flatten().tolist()\n",
    "        print(f\"Mean brisque: {mean(brisque_list)}\")\n",
    "\n",
    "        if len(ws_test) > 1:\n",
    "          print(x_gen.dtype)\n",
    "          fake_images = x_gen\n",
    "          print(\"fake images shape: \", fake_images.shape)\n",
    "\n",
    "          fid = FrechetInceptionDistance(normalize=True)\n",
    "          fid.update(dataset_testing, real=True)\n",
    "          fid.update(fake_images, real=False)\n",
    "\n",
    "          print(f\"w = {w_i}, FID: {float(fid.compute())}\")\n",
    "\n",
    "          inception = InceptionScore(normalize=True)\n",
    "          inception.update(fake_images)\n",
    "          print(f\"IS: {inception.compute()}\")\n",
    "\n"
   ]
  },
  {
   "cell_type": "code",
   "execution_count": null,
   "id": "T8LGafapo-C4",
   "metadata": {
    "colab": {
     "base_uri": "https://localhost:8080/"
    },
    "id": "T8LGafapo-C4",
    "outputId": "223ba4bc-198e-4f34-d226-d6f9c382254a"
   },
   "outputs": [
    {
     "name": "stdout",
     "output_type": "stream",
     "text": [
      "[607.6658427715302]\n",
      "0:10:07.665843\n"
     ]
    }
   ],
   "source": [
    "print(inference_times)\n",
    "print(str(datetime.timedelta(seconds=inference_times[0])))"
   ]
  },
  {
   "cell_type": "code",
   "execution_count": null,
   "id": "fe12e368-ae60-4df5-b5f1-e54565a095a9",
   "metadata": {
    "colab": {
     "base_uri": "https://localhost:8080/"
    },
    "id": "fe12e368-ae60-4df5-b5f1-e54565a095a9",
    "outputId": "3eff3315-ee90-41a4-d2f7-1f7e8b782f07"
   },
   "outputs": [
    {
     "name": "stdout",
     "output_type": "stream",
     "text": [
      "False\n",
      "True\n",
      "True\n"
     ]
    }
   ],
   "source": [
    "print(cnniqa.lower_better)\n",
    "print(niqe.lower_better)\n",
    "print(brisque.lower_better)"
   ]
  },
  {
   "cell_type": "code",
   "execution_count": null,
   "id": "6eSFf3OX-Us0",
   "metadata": {
    "id": "6eSFf3OX-Us0"
   },
   "outputs": [],
   "source": [
    "import locale\n",
    "locale.getpreferredencoding = lambda: \"UTF-8\""
   ]
  },
  {
   "cell_type": "code",
   "execution_count": null,
   "id": "GfbzoeU7-WS6",
   "metadata": {
    "colab": {
     "base_uri": "https://localhost:8080/"
    },
    "id": "GfbzoeU7-WS6",
    "outputId": "44e1d9e0-6066-483e-e808-aea3c9df828e"
   },
   "outputs": [
    {
     "name": "stdout",
     "output_type": "stream",
     "text": [
      "  adding: data/cfg_ddpm_bs32/images/ (stored 0%)\n",
      "  adding: data/cfg_ddpm_bs32/images/img101.png (stored 0%)\n",
      "  adding: data/cfg_ddpm_bs32/images/img22.png (stored 0%)\n",
      "  adding: data/cfg_ddpm_bs32/images/img30.png (deflated 0%)\n",
      "  adding: data/cfg_ddpm_bs32/images/img70.png (deflated 0%)\n",
      "  adding: data/cfg_ddpm_bs32/images/img11.png (stored 0%)\n",
      "  adding: data/cfg_ddpm_bs32/images/img97.png (stored 0%)\n",
      "  adding: data/cfg_ddpm_bs32/images/img21.png (stored 0%)\n",
      "  adding: data/cfg_ddpm_bs32/images/img32.png (deflated 0%)\n",
      "  adding: data/cfg_ddpm_bs32/images/img23.png (deflated 0%)\n",
      "  adding: data/cfg_ddpm_bs32/images/img91.png (stored 0%)\n",
      "  adding: data/cfg_ddpm_bs32/images/img84.png (stored 0%)\n",
      "  adding: data/cfg_ddpm_bs32/images/img12.png (stored 0%)\n",
      "  adding: data/cfg_ddpm_bs32/images/img10.png (deflated 0%)\n",
      "  adding: data/cfg_ddpm_bs32/images/img81.png (stored 0%)\n",
      "  adding: data/cfg_ddpm_bs32/images/img68.png (stored 0%)\n",
      "  adding: data/cfg_ddpm_bs32/images/img54.png (deflated 0%)\n",
      "  adding: data/cfg_ddpm_bs32/images/img95.png (stored 0%)\n",
      "  adding: data/cfg_ddpm_bs32/images/img4.png (deflated 0%)\n",
      "  adding: data/cfg_ddpm_bs32/images/img42.png (deflated 0%)\n",
      "  adding: data/cfg_ddpm_bs32/images/img33.png (stored 0%)\n",
      "  adding: data/cfg_ddpm_bs32/images/img56.png (stored 0%)\n",
      "  adding: data/cfg_ddpm_bs32/images/img47.png (deflated 0%)\n",
      "  adding: data/cfg_ddpm_bs32/images/img66.png (stored 0%)\n",
      "  adding: data/cfg_ddpm_bs32/images/img80.png (stored 0%)\n",
      "  adding: data/cfg_ddpm_bs32/images/img102.png (stored 0%)\n",
      "  adding: data/cfg_ddpm_bs32/images/img98.png (stored 0%)\n",
      "  adding: data/cfg_ddpm_bs32/images/img76.png (stored 0%)\n",
      "  adding: data/cfg_ddpm_bs32/images/img45.png (stored 0%)\n",
      "  adding: data/cfg_ddpm_bs32/images/img26.png (stored 0%)\n",
      "  adding: data/cfg_ddpm_bs32/images/img63.png (stored 0%)\n",
      "  adding: data/cfg_ddpm_bs32/images/img67.png (deflated 0%)\n",
      "  adding: data/cfg_ddpm_bs32/images/img19.png (stored 0%)\n",
      "  adding: data/cfg_ddpm_bs32/images/img36.png (deflated 0%)\n",
      "  adding: data/cfg_ddpm_bs32/images/img14.png (stored 0%)\n",
      "  adding: data/cfg_ddpm_bs32/images/img53.png (stored 0%)\n",
      "  adding: data/cfg_ddpm_bs32/images/img51.png (stored 0%)\n",
      "  adding: data/cfg_ddpm_bs32/images/img44.png (deflated 0%)\n",
      "  adding: data/cfg_ddpm_bs32/images/img46.png (stored 0%)\n",
      "  adding: data/cfg_ddpm_bs32/images/img64.png (deflated 0%)\n",
      "  adding: data/cfg_ddpm_bs32/images/img62.png (stored 0%)\n",
      "  adding: data/cfg_ddpm_bs32/images/img100.png (stored 0%)\n",
      "  adding: data/cfg_ddpm_bs32/images/img18.png (deflated 0%)\n",
      "  adding: data/cfg_ddpm_bs32/images/img78.png (stored 0%)\n",
      "  adding: data/cfg_ddpm_bs32/images/img57.png (stored 0%)\n",
      "  adding: data/cfg_ddpm_bs32/images/img77.png (deflated 0%)\n",
      "  adding: data/cfg_ddpm_bs32/images/img88.png (stored 0%)\n",
      "  adding: data/cfg_ddpm_bs32/images/img40.png (deflated 0%)\n",
      "  adding: data/cfg_ddpm_bs32/images/img86.png (stored 0%)\n",
      "  adding: data/cfg_ddpm_bs32/images/img0.png (deflated 0%)\n",
      "  adding: data/cfg_ddpm_bs32/images/img17.png (deflated 0%)\n",
      "  adding: data/cfg_ddpm_bs32/images/img79.png (deflated 0%)\n",
      "  adding: data/cfg_ddpm_bs32/images/img85.png (deflated 0%)\n",
      "  adding: data/cfg_ddpm_bs32/images/img41.png (stored 0%)\n",
      "  adding: data/cfg_ddpm_bs32/images/img72.png (stored 0%)\n",
      "  adding: data/cfg_ddpm_bs32/images/img27.png (deflated 0%)\n",
      "  adding: data/cfg_ddpm_bs32/images/img83.png (deflated 0%)\n",
      "  adding: data/cfg_ddpm_bs32/images/img87.png (stored 0%)\n",
      "  adding: data/cfg_ddpm_bs32/images/img49.png (stored 0%)\n",
      "  adding: data/cfg_ddpm_bs32/images/img31.png (stored 0%)\n",
      "  adding: data/cfg_ddpm_bs32/images/img37.png (deflated 0%)\n",
      "  adding: data/cfg_ddpm_bs32/images/img7.png (deflated 0%)\n",
      "  adding: data/cfg_ddpm_bs32/images/all_images_w0.png (deflated 0%)\n",
      "  adding: data/cfg_ddpm_bs32/images/img2.png (stored 0%)\n",
      "  adding: data/cfg_ddpm_bs32/images/img20.png (deflated 0%)\n",
      "  adding: data/cfg_ddpm_bs32/images/img8.png (stored 0%)\n",
      "  adding: data/cfg_ddpm_bs32/images/img94.png (deflated 0%)\n",
      "  adding: data/cfg_ddpm_bs32/images/img82.png (stored 0%)\n",
      "  adding: data/cfg_ddpm_bs32/images/img93.png (deflated 0%)\n",
      "  adding: data/cfg_ddpm_bs32/images/img59.png (deflated 0%)\n",
      "  adding: data/cfg_ddpm_bs32/images/img39.png (deflated 0%)\n",
      "  adding: data/cfg_ddpm_bs32/images/img92.png (deflated 0%)\n",
      "  adding: data/cfg_ddpm_bs32/images/img50.png (deflated 0%)\n",
      "  adding: data/cfg_ddpm_bs32/images/img60.png (stored 0%)\n",
      "  adding: data/cfg_ddpm_bs32/images/img103.png (deflated 0%)\n",
      "  adding: data/cfg_ddpm_bs32/images/img73.png (deflated 0%)\n",
      "  adding: data/cfg_ddpm_bs32/images/img69.png (deflated 0%)\n",
      "  adding: data/cfg_ddpm_bs32/images/img34.png (deflated 0%)\n",
      "  adding: data/cfg_ddpm_bs32/images/img15.png (deflated 0%)\n",
      "  adding: data/cfg_ddpm_bs32/images/img99.png (stored 0%)\n",
      "  adding: data/cfg_ddpm_bs32/images/img55.png (stored 0%)\n",
      "  adding: data/cfg_ddpm_bs32/images/img35.png (stored 0%)\n",
      "  adding: data/cfg_ddpm_bs32/images/img74.png (stored 0%)\n",
      "  adding: data/cfg_ddpm_bs32/images/img38.png (deflated 0%)\n",
      "  adding: data/cfg_ddpm_bs32/images/img6.png (deflated 0%)\n",
      "  adding: data/cfg_ddpm_bs32/images/img25.png (deflated 0%)\n",
      "  adding: data/cfg_ddpm_bs32/images/img65.png (stored 0%)\n",
      "  adding: data/cfg_ddpm_bs32/images/img16.png (deflated 0%)\n",
      "  adding: data/cfg_ddpm_bs32/images/img58.png (stored 0%)\n",
      "  adding: data/cfg_ddpm_bs32/images/img105.png (deflated 0%)\n",
      "  adding: data/cfg_ddpm_bs32/images/img52.png (stored 0%)\n",
      "  adding: data/cfg_ddpm_bs32/images/img5.png (stored 0%)\n",
      "  adding: data/cfg_ddpm_bs32/images/img13.png (stored 0%)\n",
      "  adding: data/cfg_ddpm_bs32/images/img29.png (deflated 0%)\n",
      "  adding: data/cfg_ddpm_bs32/images/img71.png (deflated 0%)\n",
      "  adding: data/cfg_ddpm_bs32/images/img96.png (deflated 0%)\n",
      "  adding: data/cfg_ddpm_bs32/images/img3.png (deflated 0%)\n",
      "  adding: data/cfg_ddpm_bs32/images/img24.png (deflated 0%)\n",
      "  adding: data/cfg_ddpm_bs32/images/img61.png (deflated 0%)\n",
      "  adding: data/cfg_ddpm_bs32/images/img90.png (deflated 0%)\n",
      "  adding: data/cfg_ddpm_bs32/images/img28.png (deflated 0%)\n",
      "  adding: data/cfg_ddpm_bs32/images/img9.png (stored 0%)\n",
      "  adding: data/cfg_ddpm_bs32/images/img89.png (stored 0%)\n",
      "  adding: data/cfg_ddpm_bs32/images/img48.png (stored 0%)\n",
      "  adding: data/cfg_ddpm_bs32/images/img75.png (deflated 0%)\n",
      "  adding: data/cfg_ddpm_bs32/images/img43.png (deflated 0%)\n",
      "  adding: data/cfg_ddpm_bs32/images/img104.png (stored 0%)\n",
      "  adding: data/cfg_ddpm_bs32/images/img1.png (stored 0%)\n"
     ]
    }
   ],
   "source": [
    "!zip -r cfg_ddpm.zip data/cfg_ddpm/images/"
   ]
  },
  {
   "cell_type": "code",
   "execution_count": null,
   "id": "essPl9ea-X5s",
   "metadata": {
    "colab": {
     "base_uri": "https://localhost:8080/",
     "height": 17
    },
    "id": "essPl9ea-X5s",
    "outputId": "41b73066-c8e7-4a47-c8b1-43d058b19f4d"
   },
   "outputs": [
    {
     "data": {
      "application/javascript": [
       "\n",
       "    async function download(id, filename, size) {\n",
       "      if (!google.colab.kernel.accessAllowed) {\n",
       "        return;\n",
       "      }\n",
       "      const div = document.createElement('div');\n",
       "      const label = document.createElement('label');\n",
       "      label.textContent = `Downloading \"${filename}\": `;\n",
       "      div.appendChild(label);\n",
       "      const progress = document.createElement('progress');\n",
       "      progress.max = size;\n",
       "      div.appendChild(progress);\n",
       "      document.body.appendChild(div);\n",
       "\n",
       "      const buffers = [];\n",
       "      let downloaded = 0;\n",
       "\n",
       "      const channel = await google.colab.kernel.comms.open(id);\n",
       "      // Send a message to notify the kernel that we're ready.\n",
       "      channel.send({})\n",
       "\n",
       "      for await (const message of channel.messages) {\n",
       "        // Send a message to notify the kernel that we're ready.\n",
       "        channel.send({})\n",
       "        if (message.buffers) {\n",
       "          for (const buffer of message.buffers) {\n",
       "            buffers.push(buffer);\n",
       "            downloaded += buffer.byteLength;\n",
       "            progress.value = downloaded;\n",
       "          }\n",
       "        }\n",
       "      }\n",
       "      const blob = new Blob(buffers, {type: 'application/binary'});\n",
       "      const a = document.createElement('a');\n",
       "      a.href = window.URL.createObjectURL(blob);\n",
       "      a.download = filename;\n",
       "      div.appendChild(a);\n",
       "      a.click();\n",
       "      div.remove();\n",
       "    }\n",
       "  "
      ],
      "text/plain": [
       "<IPython.core.display.Javascript object>"
      ]
     },
     "metadata": {},
     "output_type": "display_data"
    },
    {
     "data": {
      "application/javascript": [
       "download(\"download_f5e11f17-0695-46fe-b8aa-eb1937dc8fa6\", \"cfg_ddpm_bs32_imgaug.zip\", 6856818)"
      ],
      "text/plain": [
       "<IPython.core.display.Javascript object>"
      ]
     },
     "metadata": {},
     "output_type": "display_data"
    }
   ],
   "source": [
    "from google.colab import files\n",
    "files.download('cfg_ddpm.zip')"
   ]
  }
 ],
 "metadata": {
  "accelerator": "GPU",
  "colab": {
   "gpuType": "V100",
   "machine_shape": "hm",
   "provenance": []
  },
  "kernelspec": {
   "display_name": "Python 3 (ipykernel)",
   "language": "python",
   "name": "python3"
  },
  "language_info": {
   "codemirror_mode": {
    "name": "ipython",
    "version": 3
   },
   "file_extension": ".py",
   "mimetype": "text/x-python",
   "name": "python",
   "nbconvert_exporter": "python",
   "pygments_lexer": "ipython3",
   "version": "3.12.1"
  },
  "widgets": {
   "application/vnd.jupyter.widget-state+json": {
    "00cfc6327abe42b788387d42c3b6cf27": {
     "model_module": "@jupyter-widgets/base",
     "model_module_version": "1.2.0",
     "model_name": "LayoutModel",
     "state": {
      "_model_module": "@jupyter-widgets/base",
      "_model_module_version": "1.2.0",
      "_model_name": "LayoutModel",
      "_view_count": null,
      "_view_module": "@jupyter-widgets/base",
      "_view_module_version": "1.2.0",
      "_view_name": "LayoutView",
      "align_content": null,
      "align_items": null,
      "align_self": null,
      "border": null,
      "bottom": null,
      "display": null,
      "flex": null,
      "flex_flow": null,
      "grid_area": null,
      "grid_auto_columns": null,
      "grid_auto_flow": null,
      "grid_auto_rows": null,
      "grid_column": null,
      "grid_gap": null,
      "grid_row": null,
      "grid_template_areas": null,
      "grid_template_columns": null,
      "grid_template_rows": null,
      "height": null,
      "justify_content": null,
      "justify_items": null,
      "left": null,
      "margin": null,
      "max_height": null,
      "max_width": null,
      "min_height": null,
      "min_width": null,
      "object_fit": null,
      "object_position": null,
      "order": null,
      "overflow": null,
      "overflow_x": null,
      "overflow_y": null,
      "padding": null,
      "right": null,
      "top": null,
      "visibility": null,
      "width": null
     }
    },
    "0142b3f41a3141af841c3be2bbd31024": {
     "model_module": "@jupyter-widgets/controls",
     "model_module_version": "1.5.0",
     "model_name": "DescriptionStyleModel",
     "state": {
      "_model_module": "@jupyter-widgets/controls",
      "_model_module_version": "1.5.0",
      "_model_name": "DescriptionStyleModel",
      "_view_count": null,
      "_view_module": "@jupyter-widgets/base",
      "_view_module_version": "1.2.0",
      "_view_name": "StyleView",
      "description_width": ""
     }
    },
    "01ec4b4a5836408a899518cb5568e803": {
     "model_module": "@jupyter-widgets/base",
     "model_module_version": "1.2.0",
     "model_name": "LayoutModel",
     "state": {
      "_model_module": "@jupyter-widgets/base",
      "_model_module_version": "1.2.0",
      "_model_name": "LayoutModel",
      "_view_count": null,
      "_view_module": "@jupyter-widgets/base",
      "_view_module_version": "1.2.0",
      "_view_name": "LayoutView",
      "align_content": null,
      "align_items": null,
      "align_self": null,
      "border": null,
      "bottom": null,
      "display": null,
      "flex": null,
      "flex_flow": null,
      "grid_area": null,
      "grid_auto_columns": null,
      "grid_auto_flow": null,
      "grid_auto_rows": null,
      "grid_column": null,
      "grid_gap": null,
      "grid_row": null,
      "grid_template_areas": null,
      "grid_template_columns": null,
      "grid_template_rows": null,
      "height": null,
      "justify_content": null,
      "justify_items": null,
      "left": null,
      "margin": null,
      "max_height": null,
      "max_width": null,
      "min_height": null,
      "min_width": null,
      "object_fit": null,
      "object_position": null,
      "order": null,
      "overflow": null,
      "overflow_x": null,
      "overflow_y": null,
      "padding": null,
      "right": null,
      "top": null,
      "visibility": null,
      "width": null
     }
    },
    "0324f351c6a64b0288db87a5bee3e124": {
     "model_module": "@jupyter-widgets/base",
     "model_module_version": "1.2.0",
     "model_name": "LayoutModel",
     "state": {
      "_model_module": "@jupyter-widgets/base",
      "_model_module_version": "1.2.0",
      "_model_name": "LayoutModel",
      "_view_count": null,
      "_view_module": "@jupyter-widgets/base",
      "_view_module_version": "1.2.0",
      "_view_name": "LayoutView",
      "align_content": null,
      "align_items": null,
      "align_self": null,
      "border": null,
      "bottom": null,
      "display": null,
      "flex": null,
      "flex_flow": null,
      "grid_area": null,
      "grid_auto_columns": null,
      "grid_auto_flow": null,
      "grid_auto_rows": null,
      "grid_column": null,
      "grid_gap": null,
      "grid_row": null,
      "grid_template_areas": null,
      "grid_template_columns": null,
      "grid_template_rows": null,
      "height": null,
      "justify_content": null,
      "justify_items": null,
      "left": null,
      "margin": null,
      "max_height": null,
      "max_width": null,
      "min_height": null,
      "min_width": null,
      "object_fit": null,
      "object_position": null,
      "order": null,
      "overflow": null,
      "overflow_x": null,
      "overflow_y": null,
      "padding": null,
      "right": null,
      "top": null,
      "visibility": null,
      "width": null
     }
    },
    "04f2746523054f59856b32017c0daf93": {
     "model_module": "@jupyter-widgets/controls",
     "model_module_version": "1.5.0",
     "model_name": "DescriptionStyleModel",
     "state": {
      "_model_module": "@jupyter-widgets/controls",
      "_model_module_version": "1.5.0",
      "_model_name": "DescriptionStyleModel",
      "_view_count": null,
      "_view_module": "@jupyter-widgets/base",
      "_view_module_version": "1.2.0",
      "_view_name": "StyleView",
      "description_width": ""
     }
    },
    "06f1ce93fdf04b338041e67d213c7450": {
     "model_module": "@jupyter-widgets/controls",
     "model_module_version": "1.5.0",
     "model_name": "ProgressStyleModel",
     "state": {
      "_model_module": "@jupyter-widgets/controls",
      "_model_module_version": "1.5.0",
      "_model_name": "ProgressStyleModel",
      "_view_count": null,
      "_view_module": "@jupyter-widgets/base",
      "_view_module_version": "1.2.0",
      "_view_name": "StyleView",
      "bar_color": null,
      "description_width": ""
     }
    },
    "0b3db874964249a29179d244825ac296": {
     "model_module": "@jupyter-widgets/base",
     "model_module_version": "1.2.0",
     "model_name": "LayoutModel",
     "state": {
      "_model_module": "@jupyter-widgets/base",
      "_model_module_version": "1.2.0",
      "_model_name": "LayoutModel",
      "_view_count": null,
      "_view_module": "@jupyter-widgets/base",
      "_view_module_version": "1.2.0",
      "_view_name": "LayoutView",
      "align_content": null,
      "align_items": null,
      "align_self": null,
      "border": null,
      "bottom": null,
      "display": null,
      "flex": null,
      "flex_flow": null,
      "grid_area": null,
      "grid_auto_columns": null,
      "grid_auto_flow": null,
      "grid_auto_rows": null,
      "grid_column": null,
      "grid_gap": null,
      "grid_row": null,
      "grid_template_areas": null,
      "grid_template_columns": null,
      "grid_template_rows": null,
      "height": null,
      "justify_content": null,
      "justify_items": null,
      "left": null,
      "margin": null,
      "max_height": null,
      "max_width": null,
      "min_height": null,
      "min_width": null,
      "object_fit": null,
      "object_position": null,
      "order": null,
      "overflow": null,
      "overflow_x": null,
      "overflow_y": null,
      "padding": null,
      "right": null,
      "top": null,
      "visibility": null,
      "width": null
     }
    },
    "113865c3257f4ddd9226def81e52e0c4": {
     "model_module": "@jupyter-widgets/controls",
     "model_module_version": "1.5.0",
     "model_name": "HBoxModel",
     "state": {
      "_dom_classes": [],
      "_model_module": "@jupyter-widgets/controls",
      "_model_module_version": "1.5.0",
      "_model_name": "HBoxModel",
      "_view_count": null,
      "_view_module": "@jupyter-widgets/controls",
      "_view_module_version": "1.5.0",
      "_view_name": "HBoxView",
      "box_style": "",
      "children": [
       "IPY_MODEL_27d6695ae6e146489d2b87e85c58d9ee",
       "IPY_MODEL_2a590dc0d07f400792347bf6c30d764a",
       "IPY_MODEL_89e0e63a1bff441b896b51bcb0eabf53"
      ],
      "layout": "IPY_MODEL_e08548e16d304a56b201c2281b0471df"
     }
    },
    "14db826cafc143a5bb4176e128a39b0d": {
     "model_module": "@jupyter-widgets/controls",
     "model_module_version": "1.5.0",
     "model_name": "DescriptionStyleModel",
     "state": {
      "_model_module": "@jupyter-widgets/controls",
      "_model_module_version": "1.5.0",
      "_model_name": "DescriptionStyleModel",
      "_view_count": null,
      "_view_module": "@jupyter-widgets/base",
      "_view_module_version": "1.2.0",
      "_view_name": "StyleView",
      "description_width": ""
     }
    },
    "18951eb0ca964a05901e62b7b075cabe": {
     "model_module": "@jupyter-widgets/base",
     "model_module_version": "1.2.0",
     "model_name": "LayoutModel",
     "state": {
      "_model_module": "@jupyter-widgets/base",
      "_model_module_version": "1.2.0",
      "_model_name": "LayoutModel",
      "_view_count": null,
      "_view_module": "@jupyter-widgets/base",
      "_view_module_version": "1.2.0",
      "_view_name": "LayoutView",
      "align_content": null,
      "align_items": null,
      "align_self": null,
      "border": null,
      "bottom": null,
      "display": null,
      "flex": null,
      "flex_flow": null,
      "grid_area": null,
      "grid_auto_columns": null,
      "grid_auto_flow": null,
      "grid_auto_rows": null,
      "grid_column": null,
      "grid_gap": null,
      "grid_row": null,
      "grid_template_areas": null,
      "grid_template_columns": null,
      "grid_template_rows": null,
      "height": null,
      "justify_content": null,
      "justify_items": null,
      "left": null,
      "margin": null,
      "max_height": null,
      "max_width": null,
      "min_height": null,
      "min_width": null,
      "object_fit": null,
      "object_position": null,
      "order": null,
      "overflow": null,
      "overflow_x": null,
      "overflow_y": null,
      "padding": null,
      "right": null,
      "top": null,
      "visibility": null,
      "width": null
     }
    },
    "20102fcf0faa4f2f9b2f8c19e6e0d6e2": {
     "model_module": "@jupyter-widgets/controls",
     "model_module_version": "1.5.0",
     "model_name": "DescriptionStyleModel",
     "state": {
      "_model_module": "@jupyter-widgets/controls",
      "_model_module_version": "1.5.0",
      "_model_name": "DescriptionStyleModel",
      "_view_count": null,
      "_view_module": "@jupyter-widgets/base",
      "_view_module_version": "1.2.0",
      "_view_name": "StyleView",
      "description_width": ""
     }
    },
    "21acd0bd813b4b0ab8f570a98435435e": {
     "model_module": "@jupyter-widgets/base",
     "model_module_version": "1.2.0",
     "model_name": "LayoutModel",
     "state": {
      "_model_module": "@jupyter-widgets/base",
      "_model_module_version": "1.2.0",
      "_model_name": "LayoutModel",
      "_view_count": null,
      "_view_module": "@jupyter-widgets/base",
      "_view_module_version": "1.2.0",
      "_view_name": "LayoutView",
      "align_content": null,
      "align_items": null,
      "align_self": null,
      "border": null,
      "bottom": null,
      "display": null,
      "flex": null,
      "flex_flow": null,
      "grid_area": null,
      "grid_auto_columns": null,
      "grid_auto_flow": null,
      "grid_auto_rows": null,
      "grid_column": null,
      "grid_gap": null,
      "grid_row": null,
      "grid_template_areas": null,
      "grid_template_columns": null,
      "grid_template_rows": null,
      "height": null,
      "justify_content": null,
      "justify_items": null,
      "left": null,
      "margin": null,
      "max_height": null,
      "max_width": null,
      "min_height": null,
      "min_width": null,
      "object_fit": null,
      "object_position": null,
      "order": null,
      "overflow": null,
      "overflow_x": null,
      "overflow_y": null,
      "padding": null,
      "right": null,
      "top": null,
      "visibility": null,
      "width": null
     }
    },
    "27d6695ae6e146489d2b87e85c58d9ee": {
     "model_module": "@jupyter-widgets/controls",
     "model_module_version": "1.5.0",
     "model_name": "HTMLModel",
     "state": {
      "_dom_classes": [],
      "_model_module": "@jupyter-widgets/controls",
      "_model_module_version": "1.5.0",
      "_model_name": "HTMLModel",
      "_view_count": null,
      "_view_module": "@jupyter-widgets/controls",
      "_view_module_version": "1.5.0",
      "_view_name": "HTMLView",
      "description": "",
      "description_tooltip": null,
      "layout": "IPY_MODEL_64fba0d7abfe478c915e9cb3a534b2c9",
      "placeholder": "​",
      "style": "IPY_MODEL_8870c05ce3d34958af1145855adf5dee",
      "value": "Filter: 100%"
     }
    },
    "2a590dc0d07f400792347bf6c30d764a": {
     "model_module": "@jupyter-widgets/controls",
     "model_module_version": "1.5.0",
     "model_name": "FloatProgressModel",
     "state": {
      "_dom_classes": [],
      "_model_module": "@jupyter-widgets/controls",
      "_model_module_version": "1.5.0",
      "_model_name": "FloatProgressModel",
      "_view_count": null,
      "_view_module": "@jupyter-widgets/controls",
      "_view_module_version": "1.5.0",
      "_view_name": "ProgressView",
      "bar_style": "success",
      "description": "",
      "description_tooltip": null,
      "layout": "IPY_MODEL_18951eb0ca964a05901e62b7b075cabe",
      "max": 2452,
      "min": 0,
      "orientation": "horizontal",
      "style": "IPY_MODEL_2fbf859aa37940c794d820b995deecc4",
      "value": 2452
     }
    },
    "2baa666a1edb433db9fc0c5433af193e": {
     "model_module": "@jupyter-widgets/controls",
     "model_module_version": "1.5.0",
     "model_name": "HTMLModel",
     "state": {
      "_dom_classes": [],
      "_model_module": "@jupyter-widgets/controls",
      "_model_module_version": "1.5.0",
      "_model_name": "HTMLModel",
      "_view_count": null,
      "_view_module": "@jupyter-widgets/controls",
      "_view_module_version": "1.5.0",
      "_view_name": "HTMLView",
      "description": "",
      "description_tooltip": null,
      "layout": "IPY_MODEL_0b3db874964249a29179d244825ac296",
      "placeholder": "​",
      "style": "IPY_MODEL_a3221dae0f2b48c88a0ee41bdb71e36f",
      "value": " 1.64k/1.64k [00:00&lt;00:00, 137kB/s]"
     }
    },
    "2d6f70a83263494bb8d1ed8d807b1ede": {
     "model_module": "@jupyter-widgets/controls",
     "model_module_version": "1.5.0",
     "model_name": "HTMLModel",
     "state": {
      "_dom_classes": [],
      "_model_module": "@jupyter-widgets/controls",
      "_model_module_version": "1.5.0",
      "_model_name": "HTMLModel",
      "_view_count": null,
      "_view_module": "@jupyter-widgets/controls",
      "_view_module_version": "1.5.0",
      "_view_name": "HTMLView",
      "description": "",
      "description_tooltip": null,
      "layout": "IPY_MODEL_53cab7a2d3cf417cbfc8d4f7045c47e5",
      "placeholder": "​",
      "style": "IPY_MODEL_4dfcee20946a4390a92ce2e3e2f896e6",
      "value": "Generating train split: 100%"
     }
    },
    "2eb48b0e50b84729810ae0243fa08ed5": {
     "model_module": "@jupyter-widgets/base",
     "model_module_version": "1.2.0",
     "model_name": "LayoutModel",
     "state": {
      "_model_module": "@jupyter-widgets/base",
      "_model_module_version": "1.2.0",
      "_model_name": "LayoutModel",
      "_view_count": null,
      "_view_module": "@jupyter-widgets/base",
      "_view_module_version": "1.2.0",
      "_view_name": "LayoutView",
      "align_content": null,
      "align_items": null,
      "align_self": null,
      "border": null,
      "bottom": null,
      "display": null,
      "flex": null,
      "flex_flow": null,
      "grid_area": null,
      "grid_auto_columns": null,
      "grid_auto_flow": null,
      "grid_auto_rows": null,
      "grid_column": null,
      "grid_gap": null,
      "grid_row": null,
      "grid_template_areas": null,
      "grid_template_columns": null,
      "grid_template_rows": null,
      "height": null,
      "justify_content": null,
      "justify_items": null,
      "left": null,
      "margin": null,
      "max_height": null,
      "max_width": null,
      "min_height": null,
      "min_width": null,
      "object_fit": null,
      "object_position": null,
      "order": null,
      "overflow": null,
      "overflow_x": null,
      "overflow_y": null,
      "padding": null,
      "right": null,
      "top": null,
      "visibility": null,
      "width": null
     }
    },
    "2fbf859aa37940c794d820b995deecc4": {
     "model_module": "@jupyter-widgets/controls",
     "model_module_version": "1.5.0",
     "model_name": "ProgressStyleModel",
     "state": {
      "_model_module": "@jupyter-widgets/controls",
      "_model_module_version": "1.5.0",
      "_model_name": "ProgressStyleModel",
      "_view_count": null,
      "_view_module": "@jupyter-widgets/base",
      "_view_module_version": "1.2.0",
      "_view_name": "StyleView",
      "bar_color": null,
      "description_width": ""
     }
    },
    "3af09e1d606f45ceb66af9918129afb9": {
     "model_module": "@jupyter-widgets/base",
     "model_module_version": "1.2.0",
     "model_name": "LayoutModel",
     "state": {
      "_model_module": "@jupyter-widgets/base",
      "_model_module_version": "1.2.0",
      "_model_name": "LayoutModel",
      "_view_count": null,
      "_view_module": "@jupyter-widgets/base",
      "_view_module_version": "1.2.0",
      "_view_name": "LayoutView",
      "align_content": null,
      "align_items": null,
      "align_self": null,
      "border": null,
      "bottom": null,
      "display": null,
      "flex": null,
      "flex_flow": null,
      "grid_area": null,
      "grid_auto_columns": null,
      "grid_auto_flow": null,
      "grid_auto_rows": null,
      "grid_column": null,
      "grid_gap": null,
      "grid_row": null,
      "grid_template_areas": null,
      "grid_template_columns": null,
      "grid_template_rows": null,
      "height": null,
      "justify_content": null,
      "justify_items": null,
      "left": null,
      "margin": null,
      "max_height": null,
      "max_width": null,
      "min_height": null,
      "min_width": null,
      "object_fit": null,
      "object_position": null,
      "order": null,
      "overflow": null,
      "overflow_x": null,
      "overflow_y": null,
      "padding": null,
      "right": null,
      "top": null,
      "visibility": null,
      "width": null
     }
    },
    "4dfcee20946a4390a92ce2e3e2f896e6": {
     "model_module": "@jupyter-widgets/controls",
     "model_module_version": "1.5.0",
     "model_name": "DescriptionStyleModel",
     "state": {
      "_model_module": "@jupyter-widgets/controls",
      "_model_module_version": "1.5.0",
      "_model_name": "DescriptionStyleModel",
      "_view_count": null,
      "_view_module": "@jupyter-widgets/base",
      "_view_module_version": "1.2.0",
      "_view_name": "StyleView",
      "description_width": ""
     }
    },
    "53cab7a2d3cf417cbfc8d4f7045c47e5": {
     "model_module": "@jupyter-widgets/base",
     "model_module_version": "1.2.0",
     "model_name": "LayoutModel",
     "state": {
      "_model_module": "@jupyter-widgets/base",
      "_model_module_version": "1.2.0",
      "_model_name": "LayoutModel",
      "_view_count": null,
      "_view_module": "@jupyter-widgets/base",
      "_view_module_version": "1.2.0",
      "_view_name": "LayoutView",
      "align_content": null,
      "align_items": null,
      "align_self": null,
      "border": null,
      "bottom": null,
      "display": null,
      "flex": null,
      "flex_flow": null,
      "grid_area": null,
      "grid_auto_columns": null,
      "grid_auto_flow": null,
      "grid_auto_rows": null,
      "grid_column": null,
      "grid_gap": null,
      "grid_row": null,
      "grid_template_areas": null,
      "grid_template_columns": null,
      "grid_template_rows": null,
      "height": null,
      "justify_content": null,
      "justify_items": null,
      "left": null,
      "margin": null,
      "max_height": null,
      "max_width": null,
      "min_height": null,
      "min_width": null,
      "object_fit": null,
      "object_position": null,
      "order": null,
      "overflow": null,
      "overflow_x": null,
      "overflow_y": null,
      "padding": null,
      "right": null,
      "top": null,
      "visibility": null,
      "width": null
     }
    },
    "6256698dc3174cd2a12a6515731f44ab": {
     "model_module": "@jupyter-widgets/controls",
     "model_module_version": "1.5.0",
     "model_name": "ProgressStyleModel",
     "state": {
      "_model_module": "@jupyter-widgets/controls",
      "_model_module_version": "1.5.0",
      "_model_name": "ProgressStyleModel",
      "_view_count": null,
      "_view_module": "@jupyter-widgets/base",
      "_view_module_version": "1.2.0",
      "_view_name": "StyleView",
      "bar_color": null,
      "description_width": ""
     }
    },
    "64fba0d7abfe478c915e9cb3a534b2c9": {
     "model_module": "@jupyter-widgets/base",
     "model_module_version": "1.2.0",
     "model_name": "LayoutModel",
     "state": {
      "_model_module": "@jupyter-widgets/base",
      "_model_module_version": "1.2.0",
      "_model_name": "LayoutModel",
      "_view_count": null,
      "_view_module": "@jupyter-widgets/base",
      "_view_module_version": "1.2.0",
      "_view_name": "LayoutView",
      "align_content": null,
      "align_items": null,
      "align_self": null,
      "border": null,
      "bottom": null,
      "display": null,
      "flex": null,
      "flex_flow": null,
      "grid_area": null,
      "grid_auto_columns": null,
      "grid_auto_flow": null,
      "grid_auto_rows": null,
      "grid_column": null,
      "grid_gap": null,
      "grid_row": null,
      "grid_template_areas": null,
      "grid_template_columns": null,
      "grid_template_rows": null,
      "height": null,
      "justify_content": null,
      "justify_items": null,
      "left": null,
      "margin": null,
      "max_height": null,
      "max_width": null,
      "min_height": null,
      "min_width": null,
      "object_fit": null,
      "object_position": null,
      "order": null,
      "overflow": null,
      "overflow_x": null,
      "overflow_y": null,
      "padding": null,
      "right": null,
      "top": null,
      "visibility": null,
      "width": null
     }
    },
    "68d78d4b3a674ac0bb8fd263290549e4": {
     "model_module": "@jupyter-widgets/controls",
     "model_module_version": "1.5.0",
     "model_name": "HBoxModel",
     "state": {
      "_dom_classes": [],
      "_model_module": "@jupyter-widgets/controls",
      "_model_module_version": "1.5.0",
      "_model_name": "HBoxModel",
      "_view_count": null,
      "_view_module": "@jupyter-widgets/controls",
      "_view_module_version": "1.5.0",
      "_view_name": "HBoxView",
      "box_style": "",
      "children": [
       "IPY_MODEL_bbaec94c97df44949867798c9383b174",
       "IPY_MODEL_f6bec273125a4df6a91d7cff5ab7cab4",
       "IPY_MODEL_9d828d0d2f624efa8978200be36092d2"
      ],
      "layout": "IPY_MODEL_0324f351c6a64b0288db87a5bee3e124"
     }
    },
    "6a0d8af37f1947178ea19b5b77ffb14e": {
     "model_module": "@jupyter-widgets/base",
     "model_module_version": "1.2.0",
     "model_name": "LayoutModel",
     "state": {
      "_model_module": "@jupyter-widgets/base",
      "_model_module_version": "1.2.0",
      "_model_name": "LayoutModel",
      "_view_count": null,
      "_view_module": "@jupyter-widgets/base",
      "_view_module_version": "1.2.0",
      "_view_name": "LayoutView",
      "align_content": null,
      "align_items": null,
      "align_self": null,
      "border": null,
      "bottom": null,
      "display": null,
      "flex": null,
      "flex_flow": null,
      "grid_area": null,
      "grid_auto_columns": null,
      "grid_auto_flow": null,
      "grid_auto_rows": null,
      "grid_column": null,
      "grid_gap": null,
      "grid_row": null,
      "grid_template_areas": null,
      "grid_template_columns": null,
      "grid_template_rows": null,
      "height": null,
      "justify_content": null,
      "justify_items": null,
      "left": null,
      "margin": null,
      "max_height": null,
      "max_width": null,
      "min_height": null,
      "min_width": null,
      "object_fit": null,
      "object_position": null,
      "order": null,
      "overflow": null,
      "overflow_x": null,
      "overflow_y": null,
      "padding": null,
      "right": null,
      "top": null,
      "visibility": null,
      "width": null
     }
    },
    "6b4af138dbb546dfbd97bb36d892a96a": {
     "model_module": "@jupyter-widgets/controls",
     "model_module_version": "1.5.0",
     "model_name": "ProgressStyleModel",
     "state": {
      "_model_module": "@jupyter-widgets/controls",
      "_model_module_version": "1.5.0",
      "_model_name": "ProgressStyleModel",
      "_view_count": null,
      "_view_module": "@jupyter-widgets/base",
      "_view_module_version": "1.2.0",
      "_view_name": "StyleView",
      "bar_color": null,
      "description_width": ""
     }
    },
    "77b16fa0caf5444f822d763329cfad36": {
     "model_module": "@jupyter-widgets/base",
     "model_module_version": "1.2.0",
     "model_name": "LayoutModel",
     "state": {
      "_model_module": "@jupyter-widgets/base",
      "_model_module_version": "1.2.0",
      "_model_name": "LayoutModel",
      "_view_count": null,
      "_view_module": "@jupyter-widgets/base",
      "_view_module_version": "1.2.0",
      "_view_name": "LayoutView",
      "align_content": null,
      "align_items": null,
      "align_self": null,
      "border": null,
      "bottom": null,
      "display": null,
      "flex": null,
      "flex_flow": null,
      "grid_area": null,
      "grid_auto_columns": null,
      "grid_auto_flow": null,
      "grid_auto_rows": null,
      "grid_column": null,
      "grid_gap": null,
      "grid_row": null,
      "grid_template_areas": null,
      "grid_template_columns": null,
      "grid_template_rows": null,
      "height": null,
      "justify_content": null,
      "justify_items": null,
      "left": null,
      "margin": null,
      "max_height": null,
      "max_width": null,
      "min_height": null,
      "min_width": null,
      "object_fit": null,
      "object_position": null,
      "order": null,
      "overflow": null,
      "overflow_x": null,
      "overflow_y": null,
      "padding": null,
      "right": null,
      "top": null,
      "visibility": null,
      "width": null
     }
    },
    "7938c510b4af450ea2335fd0c5fdac57": {
     "model_module": "@jupyter-widgets/controls",
     "model_module_version": "1.5.0",
     "model_name": "FloatProgressModel",
     "state": {
      "_dom_classes": [],
      "_model_module": "@jupyter-widgets/controls",
      "_model_module_version": "1.5.0",
      "_model_name": "FloatProgressModel",
      "_view_count": null,
      "_view_module": "@jupyter-widgets/controls",
      "_view_module_version": "1.5.0",
      "_view_name": "ProgressView",
      "bar_style": "success",
      "description": "",
      "description_tooltip": null,
      "layout": "IPY_MODEL_6a0d8af37f1947178ea19b5b77ffb14e",
      "max": 2346,
      "min": 0,
      "orientation": "horizontal",
      "style": "IPY_MODEL_6b4af138dbb546dfbd97bb36d892a96a",
      "value": 2346
     }
    },
    "8870c05ce3d34958af1145855adf5dee": {
     "model_module": "@jupyter-widgets/controls",
     "model_module_version": "1.5.0",
     "model_name": "DescriptionStyleModel",
     "state": {
      "_model_module": "@jupyter-widgets/controls",
      "_model_module_version": "1.5.0",
      "_model_name": "DescriptionStyleModel",
      "_view_count": null,
      "_view_module": "@jupyter-widgets/base",
      "_view_module_version": "1.2.0",
      "_view_name": "StyleView",
      "description_width": ""
     }
    },
    "89e0e63a1bff441b896b51bcb0eabf53": {
     "model_module": "@jupyter-widgets/controls",
     "model_module_version": "1.5.0",
     "model_name": "HTMLModel",
     "state": {
      "_dom_classes": [],
      "_model_module": "@jupyter-widgets/controls",
      "_model_module_version": "1.5.0",
      "_model_name": "HTMLModel",
      "_view_count": null,
      "_view_module": "@jupyter-widgets/controls",
      "_view_module_version": "1.5.0",
      "_view_name": "HTMLView",
      "description": "",
      "description_tooltip": null,
      "layout": "IPY_MODEL_9a52f225e9fc45a99804cfcd451a53e2",
      "placeholder": "​",
      "style": "IPY_MODEL_af796c06a16d4a1e8778848e344eb3b2",
      "value": " 2452/2452 [00:05&lt;00:00, 458.78 examples/s]"
     }
    },
    "95f7c2cafcc9496faaf59b7dc9cbc2e5": {
     "model_module": "@jupyter-widgets/controls",
     "model_module_version": "1.5.0",
     "model_name": "HTMLModel",
     "state": {
      "_dom_classes": [],
      "_model_module": "@jupyter-widgets/controls",
      "_model_module_version": "1.5.0",
      "_model_name": "HTMLModel",
      "_view_count": null,
      "_view_module": "@jupyter-widgets/controls",
      "_view_module_version": "1.5.0",
      "_view_name": "HTMLView",
      "description": "",
      "description_tooltip": null,
      "layout": "IPY_MODEL_01ec4b4a5836408a899518cb5568e803",
      "placeholder": "​",
      "style": "IPY_MODEL_14db826cafc143a5bb4176e128a39b0d",
      "value": "Map: 100%"
     }
    },
    "983ba6a234134d8cb0578dd756534275": {
     "model_module": "@jupyter-widgets/base",
     "model_module_version": "1.2.0",
     "model_name": "LayoutModel",
     "state": {
      "_model_module": "@jupyter-widgets/base",
      "_model_module_version": "1.2.0",
      "_model_name": "LayoutModel",
      "_view_count": null,
      "_view_module": "@jupyter-widgets/base",
      "_view_module_version": "1.2.0",
      "_view_name": "LayoutView",
      "align_content": null,
      "align_items": null,
      "align_self": null,
      "border": null,
      "bottom": null,
      "display": null,
      "flex": null,
      "flex_flow": null,
      "grid_area": null,
      "grid_auto_columns": null,
      "grid_auto_flow": null,
      "grid_auto_rows": null,
      "grid_column": null,
      "grid_gap": null,
      "grid_row": null,
      "grid_template_areas": null,
      "grid_template_columns": null,
      "grid_template_rows": null,
      "height": null,
      "justify_content": null,
      "justify_items": null,
      "left": null,
      "margin": null,
      "max_height": null,
      "max_width": null,
      "min_height": null,
      "min_width": null,
      "object_fit": null,
      "object_position": null,
      "order": null,
      "overflow": null,
      "overflow_x": null,
      "overflow_y": null,
      "padding": null,
      "right": null,
      "top": null,
      "visibility": null,
      "width": null
     }
    },
    "9a52f225e9fc45a99804cfcd451a53e2": {
     "model_module": "@jupyter-widgets/base",
     "model_module_version": "1.2.0",
     "model_name": "LayoutModel",
     "state": {
      "_model_module": "@jupyter-widgets/base",
      "_model_module_version": "1.2.0",
      "_model_name": "LayoutModel",
      "_view_count": null,
      "_view_module": "@jupyter-widgets/base",
      "_view_module_version": "1.2.0",
      "_view_name": "LayoutView",
      "align_content": null,
      "align_items": null,
      "align_self": null,
      "border": null,
      "bottom": null,
      "display": null,
      "flex": null,
      "flex_flow": null,
      "grid_area": null,
      "grid_auto_columns": null,
      "grid_auto_flow": null,
      "grid_auto_rows": null,
      "grid_column": null,
      "grid_gap": null,
      "grid_row": null,
      "grid_template_areas": null,
      "grid_template_columns": null,
      "grid_template_rows": null,
      "height": null,
      "justify_content": null,
      "justify_items": null,
      "left": null,
      "margin": null,
      "max_height": null,
      "max_width": null,
      "min_height": null,
      "min_width": null,
      "object_fit": null,
      "object_position": null,
      "order": null,
      "overflow": null,
      "overflow_x": null,
      "overflow_y": null,
      "padding": null,
      "right": null,
      "top": null,
      "visibility": null,
      "width": null
     }
    },
    "9d828d0d2f624efa8978200be36092d2": {
     "model_module": "@jupyter-widgets/controls",
     "model_module_version": "1.5.0",
     "model_name": "HTMLModel",
     "state": {
      "_dom_classes": [],
      "_model_module": "@jupyter-widgets/controls",
      "_model_module_version": "1.5.0",
      "_model_name": "HTMLModel",
      "_view_count": null,
      "_view_module": "@jupyter-widgets/controls",
      "_view_module_version": "1.5.0",
      "_view_name": "HTMLView",
      "description": "",
      "description_tooltip": null,
      "layout": "IPY_MODEL_77b16fa0caf5444f822d763329cfad36",
      "placeholder": "​",
      "style": "IPY_MODEL_da1a54c4728a46c698d3ed37e547880d",
      "value": " 99.3M/99.3M [00:03&lt;00:00, 30.2MB/s]"
     }
    },
    "a3221dae0f2b48c88a0ee41bdb71e36f": {
     "model_module": "@jupyter-widgets/controls",
     "model_module_version": "1.5.0",
     "model_name": "DescriptionStyleModel",
     "state": {
      "_model_module": "@jupyter-widgets/controls",
      "_model_module_version": "1.5.0",
      "_model_name": "DescriptionStyleModel",
      "_view_count": null,
      "_view_module": "@jupyter-widgets/base",
      "_view_module_version": "1.2.0",
      "_view_name": "StyleView",
      "description_width": ""
     }
    },
    "af796c06a16d4a1e8778848e344eb3b2": {
     "model_module": "@jupyter-widgets/controls",
     "model_module_version": "1.5.0",
     "model_name": "DescriptionStyleModel",
     "state": {
      "_model_module": "@jupyter-widgets/controls",
      "_model_module_version": "1.5.0",
      "_model_name": "DescriptionStyleModel",
      "_view_count": null,
      "_view_module": "@jupyter-widgets/base",
      "_view_module_version": "1.2.0",
      "_view_name": "StyleView",
      "description_width": ""
     }
    },
    "b191510c73824283ab229a421f3520a4": {
     "model_module": "@jupyter-widgets/controls",
     "model_module_version": "1.5.0",
     "model_name": "HBoxModel",
     "state": {
      "_dom_classes": [],
      "_model_module": "@jupyter-widgets/controls",
      "_model_module_version": "1.5.0",
      "_model_name": "HBoxModel",
      "_view_count": null,
      "_view_module": "@jupyter-widgets/controls",
      "_view_module_version": "1.5.0",
      "_view_name": "HBoxView",
      "box_style": "",
      "children": [
       "IPY_MODEL_d88bd127ae1848eda78df62f90f15f9a",
       "IPY_MODEL_ce1b7251afcb4c5285105aaba2b46061",
       "IPY_MODEL_2baa666a1edb433db9fc0c5433af193e"
      ],
      "layout": "IPY_MODEL_fd13a974a1dc4f4c8d267c7e96521fc5"
     }
    },
    "b1ac70127b3144159e174ed11ca97682": {
     "model_module": "@jupyter-widgets/controls",
     "model_module_version": "1.5.0",
     "model_name": "HBoxModel",
     "state": {
      "_dom_classes": [],
      "_model_module": "@jupyter-widgets/controls",
      "_model_module_version": "1.5.0",
      "_model_name": "HBoxModel",
      "_view_count": null,
      "_view_module": "@jupyter-widgets/controls",
      "_view_module_version": "1.5.0",
      "_view_name": "HBoxView",
      "box_style": "",
      "children": [
       "IPY_MODEL_2d6f70a83263494bb8d1ed8d807b1ede",
       "IPY_MODEL_bde44fabf67148a6b8dd89b489babd91",
       "IPY_MODEL_f2b4fbf8bbe84ca8883398bcab45ff84"
      ],
      "layout": "IPY_MODEL_b1c2b23d70cc403cae6f52553e473c94"
     }
    },
    "b1c2b23d70cc403cae6f52553e473c94": {
     "model_module": "@jupyter-widgets/base",
     "model_module_version": "1.2.0",
     "model_name": "LayoutModel",
     "state": {
      "_model_module": "@jupyter-widgets/base",
      "_model_module_version": "1.2.0",
      "_model_name": "LayoutModel",
      "_view_count": null,
      "_view_module": "@jupyter-widgets/base",
      "_view_module_version": "1.2.0",
      "_view_name": "LayoutView",
      "align_content": null,
      "align_items": null,
      "align_self": null,
      "border": null,
      "bottom": null,
      "display": null,
      "flex": null,
      "flex_flow": null,
      "grid_area": null,
      "grid_auto_columns": null,
      "grid_auto_flow": null,
      "grid_auto_rows": null,
      "grid_column": null,
      "grid_gap": null,
      "grid_row": null,
      "grid_template_areas": null,
      "grid_template_columns": null,
      "grid_template_rows": null,
      "height": null,
      "justify_content": null,
      "justify_items": null,
      "left": null,
      "margin": null,
      "max_height": null,
      "max_width": null,
      "min_height": null,
      "min_width": null,
      "object_fit": null,
      "object_position": null,
      "order": null,
      "overflow": null,
      "overflow_x": null,
      "overflow_y": null,
      "padding": null,
      "right": null,
      "top": null,
      "visibility": null,
      "width": null
     }
    },
    "b277c395fc8f402491443e7b0803eca4": {
     "model_module": "@jupyter-widgets/controls",
     "model_module_version": "1.5.0",
     "model_name": "HTMLModel",
     "state": {
      "_dom_classes": [],
      "_model_module": "@jupyter-widgets/controls",
      "_model_module_version": "1.5.0",
      "_model_name": "HTMLModel",
      "_view_count": null,
      "_view_module": "@jupyter-widgets/controls",
      "_view_module_version": "1.5.0",
      "_view_name": "HTMLView",
      "description": "",
      "description_tooltip": null,
      "layout": "IPY_MODEL_ea4ccc87dcdf419bb4abbc6f5d2eb84d",
      "placeholder": "​",
      "style": "IPY_MODEL_04f2746523054f59856b32017c0daf93",
      "value": " 2346/2346 [00:00&lt;00:00, 7221.22 examples/s]"
     }
    },
    "b7dd1d9b8a0242ba92e5b042f6dc7e0b": {
     "model_module": "@jupyter-widgets/controls",
     "model_module_version": "1.5.0",
     "model_name": "HBoxModel",
     "state": {
      "_dom_classes": [],
      "_model_module": "@jupyter-widgets/controls",
      "_model_module_version": "1.5.0",
      "_model_name": "HBoxModel",
      "_view_count": null,
      "_view_module": "@jupyter-widgets/controls",
      "_view_module_version": "1.5.0",
      "_view_name": "HBoxView",
      "box_style": "",
      "children": [
       "IPY_MODEL_95f7c2cafcc9496faaf59b7dc9cbc2e5",
       "IPY_MODEL_7938c510b4af450ea2335fd0c5fdac57",
       "IPY_MODEL_b277c395fc8f402491443e7b0803eca4"
      ],
      "layout": "IPY_MODEL_3af09e1d606f45ceb66af9918129afb9"
     }
    },
    "bbaec94c97df44949867798c9383b174": {
     "model_module": "@jupyter-widgets/controls",
     "model_module_version": "1.5.0",
     "model_name": "HTMLModel",
     "state": {
      "_dom_classes": [],
      "_model_module": "@jupyter-widgets/controls",
      "_model_module_version": "1.5.0",
      "_model_name": "HTMLModel",
      "_view_count": null,
      "_view_module": "@jupyter-widgets/controls",
      "_view_module_version": "1.5.0",
      "_view_name": "HTMLView",
      "description": "",
      "description_tooltip": null,
      "layout": "IPY_MODEL_00cfc6327abe42b788387d42c3b6cf27",
      "placeholder": "​",
      "style": "IPY_MODEL_0142b3f41a3141af841c3be2bbd31024",
      "value": "Downloading data: 100%"
     }
    },
    "bde44fabf67148a6b8dd89b489babd91": {
     "model_module": "@jupyter-widgets/controls",
     "model_module_version": "1.5.0",
     "model_name": "FloatProgressModel",
     "state": {
      "_dom_classes": [],
      "_model_module": "@jupyter-widgets/controls",
      "_model_module_version": "1.5.0",
      "_model_name": "FloatProgressModel",
      "_view_count": null,
      "_view_module": "@jupyter-widgets/controls",
      "_view_module_version": "1.5.0",
      "_view_name": "ProgressView",
      "bar_style": "success",
      "description": "",
      "description_tooltip": null,
      "layout": "IPY_MODEL_c509bf837737477ba5cd68438ce2640b",
      "max": 2452,
      "min": 0,
      "orientation": "horizontal",
      "style": "IPY_MODEL_f501bd7ffe8945d6ac638a0b47c4efa4",
      "value": 2452
     }
    },
    "c509bf837737477ba5cd68438ce2640b": {
     "model_module": "@jupyter-widgets/base",
     "model_module_version": "1.2.0",
     "model_name": "LayoutModel",
     "state": {
      "_model_module": "@jupyter-widgets/base",
      "_model_module_version": "1.2.0",
      "_model_name": "LayoutModel",
      "_view_count": null,
      "_view_module": "@jupyter-widgets/base",
      "_view_module_version": "1.2.0",
      "_view_name": "LayoutView",
      "align_content": null,
      "align_items": null,
      "align_self": null,
      "border": null,
      "bottom": null,
      "display": null,
      "flex": null,
      "flex_flow": null,
      "grid_area": null,
      "grid_auto_columns": null,
      "grid_auto_flow": null,
      "grid_auto_rows": null,
      "grid_column": null,
      "grid_gap": null,
      "grid_row": null,
      "grid_template_areas": null,
      "grid_template_columns": null,
      "grid_template_rows": null,
      "height": null,
      "justify_content": null,
      "justify_items": null,
      "left": null,
      "margin": null,
      "max_height": null,
      "max_width": null,
      "min_height": null,
      "min_width": null,
      "object_fit": null,
      "object_position": null,
      "order": null,
      "overflow": null,
      "overflow_x": null,
      "overflow_y": null,
      "padding": null,
      "right": null,
      "top": null,
      "visibility": null,
      "width": null
     }
    },
    "ce1b7251afcb4c5285105aaba2b46061": {
     "model_module": "@jupyter-widgets/controls",
     "model_module_version": "1.5.0",
     "model_name": "FloatProgressModel",
     "state": {
      "_dom_classes": [],
      "_model_module": "@jupyter-widgets/controls",
      "_model_module_version": "1.5.0",
      "_model_name": "FloatProgressModel",
      "_view_count": null,
      "_view_module": "@jupyter-widgets/controls",
      "_view_module_version": "1.5.0",
      "_view_name": "ProgressView",
      "bar_style": "success",
      "description": "",
      "description_tooltip": null,
      "layout": "IPY_MODEL_2eb48b0e50b84729810ae0243fa08ed5",
      "max": 1635,
      "min": 0,
      "orientation": "horizontal",
      "style": "IPY_MODEL_6256698dc3174cd2a12a6515731f44ab",
      "value": 1635
     }
    },
    "d4879162a911435ca63f131fdc68eeed": {
     "model_module": "@jupyter-widgets/base",
     "model_module_version": "1.2.0",
     "model_name": "LayoutModel",
     "state": {
      "_model_module": "@jupyter-widgets/base",
      "_model_module_version": "1.2.0",
      "_model_name": "LayoutModel",
      "_view_count": null,
      "_view_module": "@jupyter-widgets/base",
      "_view_module_version": "1.2.0",
      "_view_name": "LayoutView",
      "align_content": null,
      "align_items": null,
      "align_self": null,
      "border": null,
      "bottom": null,
      "display": null,
      "flex": null,
      "flex_flow": null,
      "grid_area": null,
      "grid_auto_columns": null,
      "grid_auto_flow": null,
      "grid_auto_rows": null,
      "grid_column": null,
      "grid_gap": null,
      "grid_row": null,
      "grid_template_areas": null,
      "grid_template_columns": null,
      "grid_template_rows": null,
      "height": null,
      "justify_content": null,
      "justify_items": null,
      "left": null,
      "margin": null,
      "max_height": null,
      "max_width": null,
      "min_height": null,
      "min_width": null,
      "object_fit": null,
      "object_position": null,
      "order": null,
      "overflow": null,
      "overflow_x": null,
      "overflow_y": null,
      "padding": null,
      "right": null,
      "top": null,
      "visibility": null,
      "width": null
     }
    },
    "d88bd127ae1848eda78df62f90f15f9a": {
     "model_module": "@jupyter-widgets/controls",
     "model_module_version": "1.5.0",
     "model_name": "HTMLModel",
     "state": {
      "_dom_classes": [],
      "_model_module": "@jupyter-widgets/controls",
      "_model_module_version": "1.5.0",
      "_model_name": "HTMLModel",
      "_view_count": null,
      "_view_module": "@jupyter-widgets/controls",
      "_view_module_version": "1.5.0",
      "_view_name": "HTMLView",
      "description": "",
      "description_tooltip": null,
      "layout": "IPY_MODEL_d4879162a911435ca63f131fdc68eeed",
      "placeholder": "​",
      "style": "IPY_MODEL_20102fcf0faa4f2f9b2f8c19e6e0d6e2",
      "value": "Downloading readme: 100%"
     }
    },
    "da1a54c4728a46c698d3ed37e547880d": {
     "model_module": "@jupyter-widgets/controls",
     "model_module_version": "1.5.0",
     "model_name": "DescriptionStyleModel",
     "state": {
      "_model_module": "@jupyter-widgets/controls",
      "_model_module_version": "1.5.0",
      "_model_name": "DescriptionStyleModel",
      "_view_count": null,
      "_view_module": "@jupyter-widgets/base",
      "_view_module_version": "1.2.0",
      "_view_name": "StyleView",
      "description_width": ""
     }
    },
    "e08548e16d304a56b201c2281b0471df": {
     "model_module": "@jupyter-widgets/base",
     "model_module_version": "1.2.0",
     "model_name": "LayoutModel",
     "state": {
      "_model_module": "@jupyter-widgets/base",
      "_model_module_version": "1.2.0",
      "_model_name": "LayoutModel",
      "_view_count": null,
      "_view_module": "@jupyter-widgets/base",
      "_view_module_version": "1.2.0",
      "_view_name": "LayoutView",
      "align_content": null,
      "align_items": null,
      "align_self": null,
      "border": null,
      "bottom": null,
      "display": null,
      "flex": null,
      "flex_flow": null,
      "grid_area": null,
      "grid_auto_columns": null,
      "grid_auto_flow": null,
      "grid_auto_rows": null,
      "grid_column": null,
      "grid_gap": null,
      "grid_row": null,
      "grid_template_areas": null,
      "grid_template_columns": null,
      "grid_template_rows": null,
      "height": null,
      "justify_content": null,
      "justify_items": null,
      "left": null,
      "margin": null,
      "max_height": null,
      "max_width": null,
      "min_height": null,
      "min_width": null,
      "object_fit": null,
      "object_position": null,
      "order": null,
      "overflow": null,
      "overflow_x": null,
      "overflow_y": null,
      "padding": null,
      "right": null,
      "top": null,
      "visibility": null,
      "width": null
     }
    },
    "ea4ccc87dcdf419bb4abbc6f5d2eb84d": {
     "model_module": "@jupyter-widgets/base",
     "model_module_version": "1.2.0",
     "model_name": "LayoutModel",
     "state": {
      "_model_module": "@jupyter-widgets/base",
      "_model_module_version": "1.2.0",
      "_model_name": "LayoutModel",
      "_view_count": null,
      "_view_module": "@jupyter-widgets/base",
      "_view_module_version": "1.2.0",
      "_view_name": "LayoutView",
      "align_content": null,
      "align_items": null,
      "align_self": null,
      "border": null,
      "bottom": null,
      "display": null,
      "flex": null,
      "flex_flow": null,
      "grid_area": null,
      "grid_auto_columns": null,
      "grid_auto_flow": null,
      "grid_auto_rows": null,
      "grid_column": null,
      "grid_gap": null,
      "grid_row": null,
      "grid_template_areas": null,
      "grid_template_columns": null,
      "grid_template_rows": null,
      "height": null,
      "justify_content": null,
      "justify_items": null,
      "left": null,
      "margin": null,
      "max_height": null,
      "max_width": null,
      "min_height": null,
      "min_width": null,
      "object_fit": null,
      "object_position": null,
      "order": null,
      "overflow": null,
      "overflow_x": null,
      "overflow_y": null,
      "padding": null,
      "right": null,
      "top": null,
      "visibility": null,
      "width": null
     }
    },
    "f2b4fbf8bbe84ca8883398bcab45ff84": {
     "model_module": "@jupyter-widgets/controls",
     "model_module_version": "1.5.0",
     "model_name": "HTMLModel",
     "state": {
      "_dom_classes": [],
      "_model_module": "@jupyter-widgets/controls",
      "_model_module_version": "1.5.0",
      "_model_name": "HTMLModel",
      "_view_count": null,
      "_view_module": "@jupyter-widgets/controls",
      "_view_module_version": "1.5.0",
      "_view_name": "HTMLView",
      "description": "",
      "description_tooltip": null,
      "layout": "IPY_MODEL_21acd0bd813b4b0ab8f570a98435435e",
      "placeholder": "​",
      "style": "IPY_MODEL_fc1400eed6794c469eece28161797b22",
      "value": " 2452/2452 [00:00&lt;00:00, 6862.59 examples/s]"
     }
    },
    "f501bd7ffe8945d6ac638a0b47c4efa4": {
     "model_module": "@jupyter-widgets/controls",
     "model_module_version": "1.5.0",
     "model_name": "ProgressStyleModel",
     "state": {
      "_model_module": "@jupyter-widgets/controls",
      "_model_module_version": "1.5.0",
      "_model_name": "ProgressStyleModel",
      "_view_count": null,
      "_view_module": "@jupyter-widgets/base",
      "_view_module_version": "1.2.0",
      "_view_name": "StyleView",
      "bar_color": null,
      "description_width": ""
     }
    },
    "f6bec273125a4df6a91d7cff5ab7cab4": {
     "model_module": "@jupyter-widgets/controls",
     "model_module_version": "1.5.0",
     "model_name": "FloatProgressModel",
     "state": {
      "_dom_classes": [],
      "_model_module": "@jupyter-widgets/controls",
      "_model_module_version": "1.5.0",
      "_model_name": "FloatProgressModel",
      "_view_count": null,
      "_view_module": "@jupyter-widgets/controls",
      "_view_module_version": "1.5.0",
      "_view_name": "ProgressView",
      "bar_style": "success",
      "description": "",
      "description_tooltip": null,
      "layout": "IPY_MODEL_983ba6a234134d8cb0578dd756534275",
      "max": 99259189,
      "min": 0,
      "orientation": "horizontal",
      "style": "IPY_MODEL_06f1ce93fdf04b338041e67d213c7450",
      "value": 99259189
     }
    },
    "fc1400eed6794c469eece28161797b22": {
     "model_module": "@jupyter-widgets/controls",
     "model_module_version": "1.5.0",
     "model_name": "DescriptionStyleModel",
     "state": {
      "_model_module": "@jupyter-widgets/controls",
      "_model_module_version": "1.5.0",
      "_model_name": "DescriptionStyleModel",
      "_view_count": null,
      "_view_module": "@jupyter-widgets/base",
      "_view_module_version": "1.2.0",
      "_view_name": "StyleView",
      "description_width": ""
     }
    },
    "fd13a974a1dc4f4c8d267c7e96521fc5": {
     "model_module": "@jupyter-widgets/base",
     "model_module_version": "1.2.0",
     "model_name": "LayoutModel",
     "state": {
      "_model_module": "@jupyter-widgets/base",
      "_model_module_version": "1.2.0",
      "_model_name": "LayoutModel",
      "_view_count": null,
      "_view_module": "@jupyter-widgets/base",
      "_view_module_version": "1.2.0",
      "_view_name": "LayoutView",
      "align_content": null,
      "align_items": null,
      "align_self": null,
      "border": null,
      "bottom": null,
      "display": null,
      "flex": null,
      "flex_flow": null,
      "grid_area": null,
      "grid_auto_columns": null,
      "grid_auto_flow": null,
      "grid_auto_rows": null,
      "grid_column": null,
      "grid_gap": null,
      "grid_row": null,
      "grid_template_areas": null,
      "grid_template_columns": null,
      "grid_template_rows": null,
      "height": null,
      "justify_content": null,
      "justify_items": null,
      "left": null,
      "margin": null,
      "max_height": null,
      "max_width": null,
      "min_height": null,
      "min_width": null,
      "object_fit": null,
      "object_position": null,
      "order": null,
      "overflow": null,
      "overflow_x": null,
      "overflow_y": null,
      "padding": null,
      "right": null,
      "top": null,
      "visibility": null,
      "width": null
     }
    }
   }
  }
 },
 "nbformat": 4,
 "nbformat_minor": 5
}
